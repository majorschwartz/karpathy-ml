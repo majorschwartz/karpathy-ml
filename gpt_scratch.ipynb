{
 "cells": [
  {
   "cell_type": "code",
   "execution_count": 1,
   "metadata": {},
   "outputs": [
    {
     "name": "stdout",
     "output_type": "stream",
     "text": [
      "  % Total    % Received % Xferd  Average Speed   Time    Time     Time  Current\n",
      "                                 Dload  Upload   Total   Spent    Left  Speed\n",
      "100 1089k  100 1089k    0     0  3838k      0 --:--:-- --:--:-- --:--:-- 3848k\n"
     ]
    }
   ],
   "source": [
    "!curl https://raw.githubusercontent.com/karpathy/char-rnn/master/data/tinyshakespeare/input.txt -o shakespeare.txt"
   ]
  },
  {
   "cell_type": "code",
   "execution_count": 2,
   "metadata": {},
   "outputs": [],
   "source": [
    "with open(\"shakespeare.txt\", \"r\") as file:\n",
    "\ttext = file.read()"
   ]
  },
  {
   "cell_type": "code",
   "execution_count": 3,
   "metadata": {},
   "outputs": [
    {
     "name": "stdout",
     "output_type": "stream",
     "text": [
      "Length of text in characters:  1115394\n"
     ]
    }
   ],
   "source": [
    "print(\"Length of text in characters: \", len(text))"
   ]
  },
  {
   "cell_type": "code",
   "execution_count": 4,
   "metadata": {},
   "outputs": [
    {
     "name": "stdout",
     "output_type": "stream",
     "text": [
      "First Citizen:\n",
      "Before we proceed any further, hear me speak.\n",
      "\n",
      "All:\n",
      "Speak, speak.\n",
      "\n",
      "First Citizen:\n",
      "You are all resolved rather to die than to famish?\n",
      "\n",
      "All:\n",
      "Resolved. resolved.\n",
      "\n",
      "First Citizen:\n",
      "First, you\n"
     ]
    }
   ],
   "source": [
    "print(text[:200])"
   ]
  },
  {
   "cell_type": "code",
   "execution_count": 5,
   "metadata": {},
   "outputs": [
    {
     "name": "stdout",
     "output_type": "stream",
     "text": [
      "\n",
      " !$&',-.3:;?ABCDEFGHIJKLMNOPQRSTUVWXYZabcdefghijklmnopqrstuvwxyz\n",
      "Vocab size:  65\n"
     ]
    }
   ],
   "source": [
    "chars = sorted(list(set(text)))\n",
    "vocab_size = len(chars)\n",
    "print(''.join(chars))\n",
    "print('Vocab size: ', vocab_size)"
   ]
  },
  {
   "cell_type": "code",
   "execution_count": 6,
   "metadata": {},
   "outputs": [
    {
     "name": "stdout",
     "output_type": "stream",
     "text": [
      "[46, 43, 50, 50, 53]\n",
      "hello\n"
     ]
    }
   ],
   "source": [
    "s_to_i = {s:i for i,s in enumerate(chars)}\n",
    "i_to_s = {i:s for i,s in enumerate(chars)}\n",
    "\n",
    "encode = lambda s: [s_to_i[c] for c in s]\n",
    "decode = lambda x: ''.join([i_to_s[i] for i in x])\n",
    "\n",
    "print(encode('hello'))\n",
    "print(decode(encode('hello')))"
   ]
  },
  {
   "cell_type": "code",
   "execution_count": 7,
   "metadata": {},
   "outputs": [
    {
     "name": "stdout",
     "output_type": "stream",
     "text": [
      "torch.Size([1115394]) torch.int64\n",
      "tensor([18, 47, 56, 57, 58,  1, 15, 47, 58, 47, 64, 43, 52, 10,  0, 14, 43, 44,\n",
      "        53, 56, 43,  1, 61, 43,  1, 54, 56, 53, 41, 43, 43, 42,  1, 39, 52, 63,\n",
      "         1, 44, 59, 56, 58, 46, 43, 56,  6,  1, 46, 43, 39, 56,  1, 51, 43,  1,\n",
      "        57, 54, 43, 39, 49,  8,  0,  0, 13, 50, 50, 10,  0, 31, 54, 43, 39, 49,\n",
      "         6,  1, 57, 54, 43, 39, 49,  8,  0,  0, 18, 47, 56, 57, 58,  1, 15, 47,\n",
      "        58, 47, 64, 43, 52, 10,  0, 37, 53, 59])\n"
     ]
    }
   ],
   "source": [
    "import torch\n",
    "data = torch.tensor(encode(text), dtype=torch.int64)\n",
    "print(data.shape, data.dtype)\n",
    "print(data[:100])"
   ]
  },
  {
   "cell_type": "code",
   "execution_count": 8,
   "metadata": {},
   "outputs": [],
   "source": [
    "n = int(0.9 * len(data))\n",
    "train_data = data[:n]\n",
    "val_data = data[n:]"
   ]
  },
  {
   "cell_type": "code",
   "execution_count": 9,
   "metadata": {},
   "outputs": [
    {
     "data": {
      "text/plain": [
       "tensor([18, 47, 56, 57, 58,  1, 15, 47, 58])"
      ]
     },
     "execution_count": 9,
     "metadata": {},
     "output_type": "execute_result"
    }
   ],
   "source": [
    "block_size = 8\n",
    "train_data[:block_size+1]"
   ]
  },
  {
   "cell_type": "code",
   "execution_count": 10,
   "metadata": {},
   "outputs": [
    {
     "name": "stdout",
     "output_type": "stream",
     "text": [
      "Input: [18]   Target: 47\n",
      "Input: [18, 47]   Target: 56\n",
      "Input: [18, 47, 56]   Target: 57\n",
      "Input: [18, 47, 56, 57]   Target: 58\n",
      "Input: [18, 47, 56, 57, 58]   Target: 1\n",
      "Input: [18, 47, 56, 57, 58, 1]   Target: 15\n",
      "Input: [18, 47, 56, 57, 58, 1, 15]   Target: 47\n",
      "Input: [18, 47, 56, 57, 58, 1, 15, 47]   Target: 58\n"
     ]
    }
   ],
   "source": [
    "x = train_data[:block_size]\n",
    "y = train_data[1:block_size+1]\n",
    "\n",
    "for i in range(block_size):\n",
    "\tcontext = x[:i+1]\n",
    "\ttarget = y[i]\n",
    "\tprint(\"Input:\", context.tolist(), \"  Target:\", target.item())\n",
    "\t# print(\"Input: \", decode(context.tolist()), \"  Target: \", decode([target.item()]))"
   ]
  },
  {
   "cell_type": "code",
   "execution_count": 11,
   "metadata": {},
   "outputs": [
    {
     "name": "stdout",
     "output_type": "stream",
     "text": [
      "Inputs:\n",
      "torch.Size([4, 8]) \n",
      " tensor([[24, 43, 58,  5, 57,  1, 46, 43],\n",
      "        [44, 53, 56,  1, 58, 46, 39, 58],\n",
      "        [52, 58,  1, 58, 46, 39, 58,  1],\n",
      "        [25, 17, 27, 10,  0, 21,  1, 54]])\n",
      "Targets:\n",
      "torch.Size([4, 8]) \n",
      " tensor([[43, 58,  5, 57,  1, 46, 43, 39],\n",
      "        [53, 56,  1, 58, 46, 39, 58,  1],\n",
      "        [58,  1, 58, 46, 39, 58,  1, 46],\n",
      "        [17, 27, 10,  0, 21,  1, 54, 39]])\n",
      "--------\n",
      "Input: [24]   Target: 43\n",
      "Input: [24, 43]   Target: 58\n",
      "Input: [24, 43, 58]   Target: 5\n",
      "Input: [24, 43, 58, 5]   Target: 57\n",
      "Input: [24, 43, 58, 5, 57]   Target: 1\n",
      "Input: [24, 43, 58, 5, 57, 1]   Target: 46\n",
      "Input: [24, 43, 58, 5, 57, 1, 46]   Target: 43\n",
      "Input: [24, 43, 58, 5, 57, 1, 46, 43]   Target: 39\n",
      "Input: [44]   Target: 53\n",
      "Input: [44, 53]   Target: 56\n",
      "Input: [44, 53, 56]   Target: 1\n",
      "Input: [44, 53, 56, 1]   Target: 58\n",
      "Input: [44, 53, 56, 1, 58]   Target: 46\n",
      "Input: [44, 53, 56, 1, 58, 46]   Target: 39\n",
      "Input: [44, 53, 56, 1, 58, 46, 39]   Target: 58\n",
      "Input: [44, 53, 56, 1, 58, 46, 39, 58]   Target: 1\n",
      "Input: [52]   Target: 58\n",
      "Input: [52, 58]   Target: 1\n",
      "Input: [52, 58, 1]   Target: 58\n",
      "Input: [52, 58, 1, 58]   Target: 46\n",
      "Input: [52, 58, 1, 58, 46]   Target: 39\n",
      "Input: [52, 58, 1, 58, 46, 39]   Target: 58\n",
      "Input: [52, 58, 1, 58, 46, 39, 58]   Target: 1\n",
      "Input: [52, 58, 1, 58, 46, 39, 58, 1]   Target: 46\n",
      "Input: [25]   Target: 17\n",
      "Input: [25, 17]   Target: 27\n",
      "Input: [25, 17, 27]   Target: 10\n",
      "Input: [25, 17, 27, 10]   Target: 0\n",
      "Input: [25, 17, 27, 10, 0]   Target: 21\n",
      "Input: [25, 17, 27, 10, 0, 21]   Target: 1\n",
      "Input: [25, 17, 27, 10, 0, 21, 1]   Target: 54\n",
      "Input: [25, 17, 27, 10, 0, 21, 1, 54]   Target: 39\n"
     ]
    }
   ],
   "source": [
    "torch.manual_seed(1337)\n",
    "batch_size = 4 # how many independent sequences to train on in parallel\n",
    "block_size = 8 # what is the maximum context length for predictions\n",
    "\n",
    "def get_batch(split):\n",
    "\tdata = train_data if split == 'train' else val_data\n",
    "\tix = torch.randint(len(data) - block_size, (batch_size,)) # choose batch_size starting indices at random\n",
    "\tx = torch.stack([data[i:i+block_size] for i in ix]) # construct the input sequence\n",
    "\ty = torch.stack([data[i+1:i+block_size+1] for i in ix]) # construct the target sequence\n",
    "\treturn x, y\n",
    "\n",
    "xb, yb = get_batch('train')\n",
    "print(\"Inputs:\")\n",
    "print(xb.shape, '\\n', xb)\n",
    "print(\"Targets:\")\n",
    "print(yb.shape, '\\n', yb)\n",
    "\n",
    "print('--------')\n",
    "\n",
    "for b in range(batch_size):\n",
    "\tfor t in range(block_size):\n",
    "\t\tcontext = xb[b, :t+1]\n",
    "\t\ttarget = yb[b, t]\n",
    "\t\tprint(\"Input:\", context.tolist(), \"  Target:\", target.item())\n",
    "\t\t# print(\"Input: \", decode(np.array(context)), \"  Target: \", decode(np.array([target])))"
   ]
  },
  {
   "cell_type": "code",
   "execution_count": 12,
   "metadata": {},
   "outputs": [
    {
     "name": "stdout",
     "output_type": "stream",
     "text": [
      "tensor([[24, 43, 58,  5, 57,  1, 46, 43],\n",
      "        [44, 53, 56,  1, 58, 46, 39, 58],\n",
      "        [52, 58,  1, 58, 46, 39, 58,  1],\n",
      "        [25, 17, 27, 10,  0, 21,  1, 54]])\n"
     ]
    }
   ],
   "source": [
    "print(xb)"
   ]
  },
  {
   "cell_type": "code",
   "execution_count": 13,
   "metadata": {},
   "outputs": [
    {
     "name": "stdout",
     "output_type": "stream",
     "text": [
      "torch.Size([32, 65])\n",
      "tensor(4.8786, grad_fn=<NllLossBackward0>)\n",
      "\n",
      "Sr?qP-QWktXoL&jLDJgOLVz'RIoDqHdhsV&vLLxatjscMpwLERSPyao.qfzs$Ys$zF-w,;eEkzxjgCKFChs!iWW.ObzDnxA Ms$3\n"
     ]
    }
   ],
   "source": [
    "import torch\n",
    "import torch.nn as nn\n",
    "from torch.nn import functional as F\n",
    "torch.manual_seed(1337)\n",
    "\n",
    "class BigramLanguageModel(nn.Module):\n",
    "\tdef __init__(self, vocab_size):\n",
    "\t\tsuper().__init__()\n",
    "\t\tself.token_embedding_table = nn.Embedding(vocab_size, vocab_size)\n",
    "\n",
    "\tdef forward(self, idx, targets=None):\n",
    "\t\t# idx and targets are both of shape [batch_size, block_size]\n",
    "\t\tlogits = self.token_embedding_table(idx) # shape [batch_size, block_size, vocab_size]\n",
    "\t\t\n",
    "\t\t# if we don't have targets, skip loss calculation\n",
    "\t\tif targets is None:\n",
    "\t\t\tloss = None\n",
    "\t\telse:\n",
    "\t\t\tB, T, C = logits.shape\n",
    "\t\t\tlogits = logits.view(B*T, C)\n",
    "\t\t\ttargets = targets.view(B*T)\n",
    "\t\t\tloss = F.cross_entropy(logits, targets)\n",
    "\n",
    "\t\treturn logits, loss\n",
    "\n",
    "\tdef generate(self, idx, max_new_tokens):\n",
    "\t\t# idx is of shape [batch_size, block_size], array of indices in the current context\n",
    "\t\t# max_new_tokens is the maximum number of new tokens to generate\n",
    "\t\tfor _ in range(max_new_tokens):\n",
    "\t\t\t# get predictions for the next token\n",
    "\t\t\tlogits, _ = self(idx) # loss is not needed for generation (hence _)\n",
    "\t\t\t# only look at the last time step\n",
    "\t\t\tlogits = logits[:, -1, :] # becomes shape [batch_size, vocab_size]\n",
    "\t\t\t# use softmax to get probabilities\n",
    "\t\t\tprobs = F.softmax(logits, dim=-1) # shape [batch_size, vocab_size]\n",
    "\t\t\t# sample from the distribution\n",
    "\t\t\tnext_token = torch.multinomial(probs, num_samples=1) # shape [batch_size, 1]\n",
    "\t\t\t# append to the context\n",
    "\t\t\tidx = torch.cat((idx, next_token), dim=1) # shape [batch_size, block_size+1]\n",
    "\t\treturn idx\n",
    "\n",
    "\n",
    "m = BigramLanguageModel(vocab_size)\n",
    "logits, loss = m(xb, yb) # logits.shape -> [4, 8, 65] -> [the batch size, the context size, the vocab size (embedding row)]\n",
    "print(logits.shape)\n",
    "print(loss)\n",
    "\n",
    "idx = torch.zeros((1, 1), dtype=torch.int64)\n",
    "generation = m.generate(idx, max_new_tokens=100)[0]\n",
    "print(decode(generation.tolist()))"
   ]
  },
  {
   "cell_type": "code",
   "execution_count": 14,
   "metadata": {},
   "outputs": [],
   "source": [
    "# create a PyTorch optimizer\n",
    "optimizer = torch.optim.AdamW(m.parameters(), lr=1e-3)"
   ]
  },
  {
   "cell_type": "code",
   "execution_count": 15,
   "metadata": {},
   "outputs": [
    {
     "name": "stdout",
     "output_type": "stream",
     "text": [
      "Step 0, loss: 4.704006195068359\n",
      "Step 500, loss: 4.241008758544922\n",
      "Step 1000, loss: 3.7031264305114746\n",
      "Step 1500, loss: 3.4233598709106445\n",
      "Step 2000, loss: 3.1371781826019287\n",
      "Step 2500, loss: 2.9196817874908447\n",
      "Step 3000, loss: 2.776794672012329\n",
      "Step 3500, loss: 2.809856414794922\n",
      "Step 4000, loss: 2.5844571590423584\n",
      "Step 4500, loss: 2.6057393550872803\n",
      "Step 5000, loss: 2.5105180740356445\n",
      "Step 5500, loss: 2.548015594482422\n",
      "Step 6000, loss: 2.531585931777954\n",
      "Step 6500, loss: 2.4708240032196045\n",
      "Step 7000, loss: 2.504757881164551\n",
      "Step 7500, loss: 2.400172472000122\n",
      "Step 8000, loss: 2.4696712493896484\n",
      "Step 8500, loss: 2.4209394454956055\n",
      "Step 9000, loss: 2.4838879108428955\n",
      "Step 9500, loss: 2.407996892929077\n"
     ]
    }
   ],
   "source": [
    "batch_size = 32\n",
    "for step in range(10000):\n",
    "\t# sample random batch\n",
    "\txb, yb = get_batch('train')\n",
    "\n",
    "\t# evaluate loss\n",
    "\t_, loss = m(xb, yb) # can throw out logits here because we only need the loss\n",
    "\toptimizer.zero_grad(set_to_none=True)\n",
    "\tloss.backward()\n",
    "\toptimizer.step()\n",
    "\n",
    "\tif step % 500 == 0:\n",
    "\t\tprint(f'Step {step}, loss: {loss.item()}')"
   ]
  },
  {
   "cell_type": "code",
   "execution_count": 16,
   "metadata": {},
   "outputs": [
    {
     "name": "stdout",
     "output_type": "stream",
     "text": [
      "\n",
      "Iyoteng h hasbe pave pirance\n",
      "Rie hicomyonthar's\n",
      "Plinseard ith henoure wounonthioneir thondy, y helti\n"
     ]
    }
   ],
   "source": [
    "idx = torch.zeros((1, 1), dtype=torch.int64)\n",
    "generation = m.generate(idx, max_new_tokens=100)[0]\n",
    "print(decode(generation.tolist()))"
   ]
  },
  {
   "cell_type": "code",
   "execution_count": 17,
   "metadata": {},
   "outputs": [
    {
     "data": {
      "text/plain": [
       "torch.Size([4, 8, 2])"
      ]
     },
     "execution_count": 17,
     "metadata": {},
     "output_type": "execute_result"
    }
   ],
   "source": [
    "# self attention look ahead\n",
    "import torch\n",
    "\n",
    "torch.manual_seed(1337)\n",
    "B, T, C = 4, 8, 2\n",
    "x = torch.randn(B, T, C)\n",
    "x.shape"
   ]
  },
  {
   "cell_type": "code",
   "execution_count": 18,
   "metadata": {},
   "outputs": [],
   "source": [
    "# very inefficient way to compute self-attention\n",
    "xbow = torch.zeros((B, T, C))\n",
    "for b in range(B):\n",
    "\tfor t in range(T):\n",
    "\t\txprev = x[b, :t+1] # (t, C)\n",
    "\t\txbow[b, t] = torch.mean(xprev, 0) # (C,)"
   ]
  },
  {
   "cell_type": "code",
   "execution_count": 19,
   "metadata": {},
   "outputs": [],
   "source": [
    "# better but not best\n",
    "wei = torch.tril(torch.ones(T, T)) # (T, T)\n",
    "wei = wei / wei.sum(1, keepdim=True) # (T, T)\n",
    "xbow2 = wei @ x # (~B, T, T) @ (B, T, C) -> (B, T, C)\n",
    "# torch.equal(xbow.round(decimals=6), xbow2.round(decimals=6))"
   ]
  },
  {
   "cell_type": "code",
   "execution_count": 20,
   "metadata": {},
   "outputs": [
    {
     "data": {
      "text/plain": [
       "(True, True)"
      ]
     },
     "execution_count": 20,
     "metadata": {},
     "output_type": "execute_result"
    }
   ],
   "source": [
    "# excellent\n",
    "tril = torch.tril(torch.ones(T, T)) # (T, T)\n",
    "wei = torch.zeros((T, T))\n",
    "wei = wei.masked_fill(tril == 0, float('-inf')) # (T, T)\n",
    "wei = torch.softmax(wei, dim=1) # (T, T)\n",
    "xbow3 = wei @ x # (~B, T, T) @ (B, T, C) -> (B, T, C)\n",
    "torch.equal(xbow.round(decimals=6), xbow3.round(decimals=6)), torch.equal(xbow2.round(decimals=6), xbow3.round(decimals=6))"
   ]
  },
  {
   "cell_type": "code",
   "execution_count": 22,
   "metadata": {},
   "outputs": [],
   "source": [
    "# torch.manual_seed(42)\n",
    "# a = torch.tril(torch.ones(3, 3))\n",
    "# a = a / torch.sum(a, 1, keepdim=True)\n",
    "# b = torch.randint(0, 10, (3, 2)).float()\n",
    "# c = a @ b\n",
    "# print(f\"a:\\n{a}\\nb:\\n{b}\\nc:\\n{c}\")"
   ]
  },
  {
   "cell_type": "code",
   "execution_count": 27,
   "metadata": {},
   "outputs": [
    {
     "data": {
      "text/plain": [
       "torch.Size([4, 8, 16])"
      ]
     },
     "execution_count": 27,
     "metadata": {},
     "output_type": "execute_result"
    }
   ],
   "source": [
    "# with a head for self-attention\n",
    "torch.manual_seed(1337)\n",
    "B, T, C = 4, 8, 32 # batch size, time steps, channels\n",
    "x = torch.randn(B, T, C)\n",
    "\n",
    "# making a Head perform self-attention\n",
    "head_size = 16\n",
    "key = nn.Linear(C, head_size, bias=False)\n",
    "query = nn.Linear(C, head_size, bias=False)\n",
    "value = nn.Linear(C, head_size, bias=False)\n",
    "k = key(x) # (B, T, head_size)\n",
    "q = query(x) # (B, T, head_size)\n",
    "wei = q @ k.transpose(-2, -1) # (B, T, head_size) @ (B, head_size, T) -> (B, T, T)\n",
    "\n",
    "tril = torch.tril(torch.ones(T, T))\n",
    "# wei = torch.zeros((T, T))\n",
    "wei = wei.masked_fill(tril == 0, float('-inf'))\n",
    "wei = torch.softmax(wei, dim=1)\n",
    "\n",
    "v = value(x) # (B, T, head_size)\n",
    "out = wei @ v\n",
    "\n",
    "out.shape"
   ]
  },
  {
   "cell_type": "code",
   "execution_count": 29,
   "metadata": {},
   "outputs": [
    {
     "data": {
      "text/plain": [
       "tensor([[0.0248, 0.0000, 0.0000, 0.0000, 0.0000, 0.0000, 0.0000, 0.0000],\n",
       "        [0.0052, 0.0091, 0.0000, 0.0000, 0.0000, 0.0000, 0.0000, 0.0000],\n",
       "        [0.0521, 0.0135, 0.2482, 0.0000, 0.0000, 0.0000, 0.0000, 0.0000],\n",
       "        [0.3171, 0.0214, 0.1642, 0.1188, 0.0000, 0.0000, 0.0000, 0.0000],\n",
       "        [0.0412, 0.0487, 0.1046, 0.0742, 0.2000, 0.0000, 0.0000, 0.0000],\n",
       "        [0.1060, 0.5347, 0.2059, 0.1030, 0.7402, 0.0192, 0.0000, 0.0000],\n",
       "        [0.4298, 0.3409, 0.1769, 0.2027, 0.0480, 0.8472, 0.2329, 0.0000],\n",
       "        [0.0238, 0.0316, 0.1002, 0.5013, 0.0117, 0.1336, 0.7671, 1.0000]],\n",
       "       grad_fn=<SelectBackward0>)"
      ]
     },
     "execution_count": 29,
     "metadata": {},
     "output_type": "execute_result"
    }
   ],
   "source": [
    "wei[0]"
   ]
  },
  {
   "cell_type": "code",
   "execution_count": null,
   "metadata": {},
   "outputs": [],
   "source": []
  }
 ],
 "metadata": {
  "kernelspec": {
   "display_name": "Python 3",
   "language": "python",
   "name": "python3"
  },
  "language_info": {
   "codemirror_mode": {
    "name": "ipython",
    "version": 3
   },
   "file_extension": ".py",
   "mimetype": "text/x-python",
   "name": "python",
   "nbconvert_exporter": "python",
   "pygments_lexer": "ipython3",
   "version": "3.10.12"
  }
 },
 "nbformat": 4,
 "nbformat_minor": 2
}
