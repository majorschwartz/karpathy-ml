{
 "cells": [
  {
   "cell_type": "code",
   "execution_count": 113,
   "metadata": {},
   "outputs": [],
   "source": [
    "import torch\n",
    "import torch.nn.functional as F\n",
    "import matplotlib.pyplot as plt\n",
    "%matplotlib inline"
   ]
  },
  {
   "cell_type": "code",
   "execution_count": 114,
   "metadata": {},
   "outputs": [
    {
     "data": {
      "text/plain": [
       "(32033, ['emma', 'olivia', 'ava', 'isabella', 'sophia'])"
      ]
     },
     "execution_count": 114,
     "metadata": {},
     "output_type": "execute_result"
    }
   ],
   "source": [
    "# read the words\n",
    "words = open('names.txt', 'r').read().splitlines()\n",
    "len(words), words[:5]"
   ]
  },
  {
   "cell_type": "code",
   "execution_count": 115,
   "metadata": {},
   "outputs": [
    {
     "name": "stdout",
     "output_type": "stream",
     "text": [
      "{0: '.', 1: 'a', 2: 'b', 3: 'c', 4: 'd', 5: 'e', 6: 'f', 7: 'g', 8: 'h', 9: 'i', 10: 'j', 11: 'k', 12: 'l', 13: 'm', 14: 'n', 15: 'o', 16: 'p', 17: 'q', 18: 'r', 19: 's', 20: 't', 21: 'u', 22: 'v', 23: 'w', 24: 'x', 25: 'y', 26: 'z'}\n",
      "27\n"
     ]
    }
   ],
   "source": [
    "# build the vocabulary\n",
    "chars = sorted(list(set(''.join(words))))\n",
    "s_to_i = {'.' : 0} | {s: i + 1 for i, s in enumerate(chars)}\n",
    "i_to_s = {i: s for s, i in s_to_i.items()}\n",
    "vocab_size = len(i_to_s)\n",
    "print(i_to_s)\n",
    "print(vocab_size)"
   ]
  },
  {
   "cell_type": "code",
   "execution_count": 116,
   "metadata": {},
   "outputs": [],
   "source": [
    "# shuffle up the words\n",
    "import random\n",
    "random.seed(42)\n",
    "random.shuffle(words)"
   ]
  },
  {
   "cell_type": "code",
   "execution_count": 117,
   "metadata": {},
   "outputs": [
    {
     "name": "stdout",
     "output_type": "stream",
     "text": [
      "torch.Size([182625, 8]) torch.Size([182625])\n",
      "torch.Size([22655, 8]) torch.Size([22655])\n",
      "torch.Size([22866, 8]) torch.Size([22866])\n"
     ]
    }
   ],
   "source": [
    "# build the dataset\n",
    "\n",
    "block_size = 8 # context length (how many chars to predict next)\n",
    "\n",
    "def build_dataset(words):\n",
    "\tX, Y = [], []\n",
    "\n",
    "\tfor w in words:\n",
    "\t\tcontext = [0] * block_size\n",
    "\t\tfor ch in w + '.':\n",
    "\t\t\tidx = s_to_i[ch]\n",
    "\t\t\tX.append(context)\n",
    "\t\t\tY.append(idx)\n",
    "\t\t\tcontext = context[1:] + [idx]\n",
    "\t\n",
    "\tX = torch.tensor(X)\n",
    "\tY = torch.tensor(Y)\n",
    "\tprint(X.shape, Y.shape)\n",
    "\treturn X, Y\n",
    "\n",
    "n1 = int(len(words) * 0.8)\n",
    "n2 = int(len(words) * 0.9)\n",
    "X_train,\tY_train\t= build_dataset(words[:n1])\t\t# 80%\n",
    "X_val,\t\tY_val\t= build_dataset(words[n1:n2])\t# 10%\n",
    "X_test,\t\tY_test\t= build_dataset(words[n2:])\t\t# 10%"
   ]
  },
  {
   "cell_type": "code",
   "execution_count": 118,
   "metadata": {},
   "outputs": [
    {
     "name": "stdout",
     "output_type": "stream",
     "text": [
      "........ ---> y\n",
      ".......y ---> u\n",
      "......yu ---> h\n",
      ".....yuh ---> e\n",
      "....yuhe ---> n\n",
      "...yuhen ---> g\n",
      "..yuheng ---> .\n",
      "........ ---> d\n",
      ".......d ---> i\n",
      "......di ---> o\n",
      ".....dio ---> n\n",
      "....dion ---> d\n",
      "...diond ---> r\n",
      "..diondr ---> e\n",
      ".diondre ---> .\n",
      "........ ---> x\n",
      ".......x ---> a\n",
      "......xa ---> v\n",
      ".....xav ---> i\n",
      "....xavi ---> e\n"
     ]
    }
   ],
   "source": [
    "for x, y in zip(X_train[:20], Y_train[:20]):\n",
    "\tprint(''.join([i_to_s[i.item()] for i in x]), '--->', i_to_s[y.item()])"
   ]
  },
  {
   "cell_type": "code",
   "execution_count": 119,
   "metadata": {},
   "outputs": [],
   "source": [
    "class Linear:\n",
    "\tdef __init__(self, fan_in, fan_out, bias=True):\n",
    "\t\tself.weight = torch.randn((fan_in, fan_out)) / fan_in**0.5\n",
    "\t\tself.bias = torch.zeros(fan_out) if bias else None\n",
    "\t\n",
    "\tdef __call__(self, x):\n",
    "\t\tself.out = x @ self.weight\n",
    "\t\tif self.bias is not None:\n",
    "\t\t\tself.out += self.bias\n",
    "\t\treturn self.out\n",
    "\t\n",
    "\tdef parameters(self):\n",
    "\t\treturn [self.weight] + ([] if self.bias is None else [self.bias])"
   ]
  },
  {
   "cell_type": "code",
   "execution_count": 120,
   "metadata": {},
   "outputs": [],
   "source": [
    "class BatchNorm1d:\n",
    "\tdef __init__(self, dim, eps=1e-5, momentum=0.1):\n",
    "\t\tself.eps = eps\n",
    "\t\tself.momentum = momentum\n",
    "\t\tself.training = True\n",
    "\t\t# parameters trained with backprop\n",
    "\t\tself.gamma = torch.ones(dim)\n",
    "\t\tself.beta = torch.zeros(dim)\n",
    "\t\t# running statistics\n",
    "\t\tself.running_mean = torch.zeros(dim)\n",
    "\t\tself.running_var = torch.ones(dim)\n",
    "\t\n",
    "\tdef __call__(self, x):\n",
    "\t\t# calculate the forward pass\n",
    "\t\tif self.training:\n",
    "\t\t\tif x.ndim == 2:\n",
    "\t\t\t\tdim = 0\n",
    "\t\t\telif x.ndim == 3:\n",
    "\t\t\t\tdim = (0, 1)\n",
    "\t\t\tmean = x.mean(dim, keepdim=True) # batch mean\n",
    "\t\t\tvar = x.var(dim, keepdim=True) # batch variance\n",
    "\t\telse:\n",
    "\t\t\tmean = self.running_mean\n",
    "\t\t\tvar = self.running_var\n",
    "\t\tx_hat = (x - mean) / torch.sqrt(var + self.eps)\n",
    "\t\tself.out = self.gamma * x_hat + self.beta\n",
    "\t\t# update running statistics\n",
    "\t\tif self.training:\n",
    "\t\t\twith torch.no_grad():\n",
    "\t\t\t\tself.running_mean = (1 - self.momentum) * self.running_mean + self.momentum * mean\n",
    "\t\t\t\tself.running_var = (1 - self.momentum) * self.running_var + self.momentum * var\n",
    "\t\treturn self.out\n",
    "\t\n",
    "\tdef parameters(self):\n",
    "\t\treturn [self.gamma, self.beta]"
   ]
  },
  {
   "cell_type": "code",
   "execution_count": 121,
   "metadata": {},
   "outputs": [],
   "source": [
    "class Tanh:\n",
    "\tdef __call__(self, x):\n",
    "\t\tself.out = torch.tanh(x)\n",
    "\t\treturn self.out\n",
    "\tdef parameters(self):\n",
    "\t\treturn []"
   ]
  },
  {
   "cell_type": "code",
   "execution_count": 122,
   "metadata": {},
   "outputs": [],
   "source": [
    "class Embedding:\n",
    "\tdef __init__(self, num_embeddings, embedding_dim):\n",
    "\t\tself.weight = torch.randn((num_embeddings, embedding_dim))\n",
    "\n",
    "\tdef __call__(self, x):\n",
    "\t\tself.out = self.weight[x]\n",
    "\t\treturn self.out\n",
    "\n",
    "\tdef parameters(self):\n",
    "\t\treturn [self.weight]"
   ]
  },
  {
   "cell_type": "code",
   "execution_count": 123,
   "metadata": {},
   "outputs": [],
   "source": [
    "class FlattenConsecutive:\n",
    "\tdef __init__(self, n):\n",
    "\t\tself.n = n\n",
    "\n",
    "\tdef __call__(self, x):\n",
    "\t\tself.out = x.view(x.shape[0], x.shape[1]//self.n, -1)\n",
    "\t\tif self.out.shape[1] == 1:\n",
    "\t\t\tself.out = self.out.squeeze(1)\n",
    "\t\treturn self.out\n",
    "\n",
    "\tdef parameters(self):\n",
    "\t\treturn []"
   ]
  },
  {
   "cell_type": "code",
   "execution_count": 134,
   "metadata": {},
   "outputs": [],
   "source": [
    "class Sequential:\n",
    "\tdef __init__(self, layers):\n",
    "\t\tself.layers = layers\n",
    "\t\n",
    "\tdef __call__(self, x):\n",
    "\t\tfor layer in self.layers:\n",
    "\t\t\tx = layer(x)\n",
    "\t\tself.out = x\n",
    "\t\treturn self.out\n",
    "\t\n",
    "\tdef parameters(self):\n",
    "\t\treturn [p for layer in self.layers for p in layer.parameters()]"
   ]
  },
  {
   "cell_type": "code",
   "execution_count": 135,
   "metadata": {},
   "outputs": [],
   "source": [
    "torch.manual_seed(42);"
   ]
  },
  {
   "cell_type": "code",
   "execution_count": 138,
   "metadata": {},
   "outputs": [
    {
     "name": "stdout",
     "output_type": "stream",
     "text": [
      "22397\n"
     ]
    }
   ],
   "source": [
    "n_embd = 10 # embedding size\n",
    "n_hidden = 68 # hidden layer size\n",
    "\n",
    "model = Sequential([\n",
    "\tEmbedding(vocab_size, n_embd),\n",
    "\tFlattenConsecutive(2), Linear(n_embd   * 2, n_hidden, bias=False), BatchNorm1d(n_hidden), Tanh(),\n",
    "\tFlattenConsecutive(2), Linear(n_hidden * 2, n_hidden, bias=False), BatchNorm1d(n_hidden), Tanh(),\n",
    "\tFlattenConsecutive(2), Linear(n_hidden * 2, n_hidden, bias=False), BatchNorm1d(n_hidden), Tanh(),\n",
    "\tLinear(n_hidden, vocab_size),\n",
    "])\n",
    "\n",
    "with torch.no_grad():\n",
    "\tmodel.layers[-1].weight *= 0.1 # make last layer less confident\n",
    "\n",
    "parameters = model.parameters()\n",
    "print(sum(p.nelement() for p in parameters)) # number of parameters in total\n",
    "for p in parameters:\n",
    "\tp.requires_grad = True"
   ]
  },
  {
   "cell_type": "code",
   "execution_count": 140,
   "metadata": {},
   "outputs": [
    {
     "name": "stdout",
     "output_type": "stream",
     "text": [
      "     Layer (Type) Name | Output Shape\n",
      "           Embedding 1 | (32, 8, 10)\n",
      "  FlattenConsecutive 1 | (32, 4, 20)\n",
      "              Linear 1 | (32, 4, 68)\n",
      "         BatchNorm1d 1 | (32, 4, 68)\n",
      "                Tanh 1 | (32, 4, 68)\n",
      "  FlattenConsecutive 2 | (32, 2, 136)\n",
      "              Linear 2 | (32, 2, 68)\n",
      "         BatchNorm1d 2 | (32, 2, 68)\n",
      "                Tanh 2 | (32, 2, 68)\n",
      "  FlattenConsecutive 3 | (32, 136)\n",
      "              Linear 3 | (32, 68)\n",
      "         BatchNorm1d 3 | (32, 68)\n",
      "                Tanh 3 | (32, 68)\n",
      "              Linear 4 | (32, 27)\n"
     ]
    }
   ],
   "source": [
    "from collections import defaultdict\n",
    "\n",
    "# Find the length of the longest class name\n",
    "max_name_length = max(len(layer.__class__.__name__) for layer in model.layers)\n",
    "batch_size = 32\n",
    "\n",
    "# Initialize a defaultdict to keep track of layer type counts\n",
    "layer_counts = defaultdict(int)\n",
    "\n",
    "# Now print each layer with proper padding and numbering\n",
    "if not hasattr(model.layers[0], 'out'):\n",
    "    model(X_train[:batch_size])  # run the model to calculate the output shape\n",
    "    print(\"(Ran for a batch of 32 to determine output shapes)\\n\")\n",
    "print(\"Layer (Type) Name\".rjust(max_name_length + 4), \"| Output Shape\")\n",
    "for layer in model.layers:\n",
    "    class_name = layer.__class__.__name__\n",
    "    layer_counts[class_name] += 1\n",
    "    padded_name = f\"{class_name} {layer_counts[class_name]}\".rjust(max_name_length + 4)  # +4 for number and spaces\n",
    "    print(f\"{padded_name} | {tuple(layer.out.shape)}\")"
   ]
  },
  {
   "cell_type": "code",
   "execution_count": 139,
   "metadata": {},
   "outputs": [
    {
     "name": "stdout",
     "output_type": "stream",
     "text": [
      "      0/  200000: 3.2984\n"
     ]
    }
   ],
   "source": [
    "max_steps = 200000\n",
    "batch_size = 32\n",
    "lossi = []\n",
    "\n",
    "for i in range(max_steps):\n",
    "\n",
    "\t# minibatch\n",
    "\tminibatch = torch.randint(0, X_train.shape[0], (batch_size,))\n",
    "\tXb, Yb = X_train[minibatch], Y_train[minibatch]\n",
    "\n",
    "\t# forward pass\n",
    "\tlogits = model(Xb)\n",
    "\tloss = F.cross_entropy(logits, Yb) # loss function\n",
    "\n",
    "\t# backward pass\n",
    "\tfor p in parameters:\n",
    "\t\tp.grad = None\n",
    "\tloss.backward()\n",
    "\n",
    "\t# update: simple SGD\n",
    "\tlr = 0.1 if i < 100000 else 0.01\n",
    "\tfor p in parameters:\n",
    "\t\tp.data += -lr * p.grad\n",
    "\t\n",
    "\t# track stats\n",
    "\tif i % 10000 == 0:\n",
    "\t\tprint(f'{i:7d}/ {max_steps:7d}: {loss.item():.4f}')\n",
    "\tlossi.append(loss.log10().item())\n",
    "\n",
    "\tbreak"
   ]
  },
  {
   "cell_type": "code",
   "execution_count": 56,
   "metadata": {},
   "outputs": [
    {
     "data": {
      "text/plain": [
       "[<matplotlib.lines.Line2D at 0x723f7102ed10>]"
      ]
     },
     "execution_count": 56,
     "metadata": {},
     "output_type": "execute_result"
    },
    {
     "data": {
      "image/png": "[encoded data removed]",
      "text/plain": [
       "<Figure size 432x288 with 1 Axes>"
      ]
     },
     "metadata": {
      "needs_background": "light"
     },
     "output_type": "display_data"
    }
   ],
   "source": [
    "plt.plot(torch.tensor(lossi).view(-1, 1000).mean(1))"
   ]
  },
  {
   "cell_type": "code",
   "execution_count": 57,
   "metadata": {},
   "outputs": [],
   "source": [
    "for layer in model.layers:\n",
    "\tlayer.training = False"
   ]
  },
  {
   "cell_type": "code",
   "execution_count": 58,
   "metadata": {},
   "outputs": [
    {
     "name": "stdout",
     "output_type": "stream",
     "text": [
      "train 1.9534237384796143\n",
      "val 2.030740737915039\n"
     ]
    }
   ],
   "source": [
    "# evaluate the loss\n",
    "@torch.no_grad()\n",
    "def split_loss(split):\n",
    "\tx, y = {\n",
    "\t\t'train': (X_train, Y_train),\n",
    "\t\t'val': (X_val, Y_val),\n",
    "\t\t'test': (X_test, Y_test)\n",
    "\t}[split]\n",
    "\tlogits = model(x)\n",
    "\tloss = F.cross_entropy(logits, y)\n",
    "\tprint(split, loss.item())\n",
    "\n",
    "split_loss('train')\n",
    "split_loss('val')"
   ]
  },
  {
   "cell_type": "code",
   "execution_count": 59,
   "metadata": {},
   "outputs": [
    {
     "name": "stdout",
     "output_type": "stream",
     "text": [
      "lansley\n",
      "valiana\n",
      "nelia\n",
      "kailon\n",
      "benoce\n",
      "callie\n",
      "telan\n",
      "rivan\n",
      "jaleid\n",
      "zeyelie\n",
      "isabi\n",
      "synnequ\n",
      "zhrylak\n",
      "erishai\n",
      "ilynn\n",
      "andru\n",
      "aaitley\n",
      "quia\n",
      "lawheoni\n",
      "seleigh\n"
     ]
    }
   ],
   "source": [
    "# sample from model\n",
    "\n",
    "for _ in range(20):\n",
    "\tout = []\n",
    "\tcontext = [0] * block_size\n",
    "\twhile True:\n",
    "\t\tlogits = model(torch.tensor([context]))\n",
    "\t\tprobs = F.softmax(logits, dim=1)\n",
    "\t\tix = torch.multinomial(probs, num_samples=1).item()\n",
    "\t\tcontext = context[1:] + [ix]\n",
    "\t\tout.append(ix)\n",
    "\t\tif ix == 0:\n",
    "\t\t\tbreak\n",
    "\t\n",
    "\tprint(''.join(i_to_s[i] for i in out[:-1]))"
   ]
  },
  {
   "cell_type": "code",
   "execution_count": null,
   "metadata": {},
   "outputs": [],
   "source": []
  }
 ],
 "metadata": {
  "kernelspec": {
   "display_name": "Python 3",
   "language": "python",
   "name": "python3"
  },
  "language_info": {
   "codemirror_mode": {
    "name": "ipython",
    "version": 3
   },
   "file_extension": ".py",
   "mimetype": "text/x-python",
   "name": "python",
   "nbconvert_exporter": "python",
   "pygments_lexer": "ipython3",
   "version": "3.10.12"
  }
 },
 "nbformat": 4,
 "nbformat_minor": 2
}
