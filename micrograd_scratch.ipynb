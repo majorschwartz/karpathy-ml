{
 "cells": [
  {
   "cell_type": "code",
   "execution_count": 97,
   "metadata": {},
   "outputs": [],
   "source": [
    "import math\n",
    "import numpy as np\n",
    "import matplotlib.pyplot as plt\n",
    "%matplotlib inline"
   ]
  },
  {
   "cell_type": "code",
   "execution_count": 98,
   "metadata": {},
   "outputs": [],
   "source": [
    "def f(x):\n",
    "    return 3*x**2 - 4*x + 5"
   ]
  },
  {
   "cell_type": "code",
   "execution_count": 99,
   "metadata": {},
   "outputs": [
    {
     "data": {
      "text/plain": [
       "20"
      ]
     },
     "execution_count": 99,
     "metadata": {},
     "output_type": "execute_result"
    }
   ],
   "source": [
    "f(3)"
   ]
  },
  {
   "cell_type": "code",
   "execution_count": 100,
   "metadata": {},
   "outputs": [
    {
     "data": {
      "text/plain": [
       "[<matplotlib.lines.Line2D at 0x7ec2691e6e90>]"
      ]
     },
     "execution_count": 100,
     "metadata": {},
     "output_type": "execute_result"
    },
    {
     "data": {
      "image/png": "[encoded data removed]",
      "text/plain": [
       "<Figure size 432x288 with 1 Axes>"
      ]
     },
     "metadata": {
      "needs_background": "light"
     },
     "output_type": "display_data"
    }
   ],
   "source": [
    "xs = np.arange(-5, 5, 0.25)\n",
    "ys = f(xs)\n",
    "plt.plot(xs, ys)"
   ]
  },
  {
   "cell_type": "code",
   "execution_count": 101,
   "metadata": {},
   "outputs": [
    {
     "data": {
      "text/plain": [
       "0.0"
      ]
     },
     "execution_count": 101,
     "metadata": {},
     "output_type": "execute_result"
    }
   ],
   "source": [
    "h = 0.00000001\n",
    "x = 2/3\n",
    "(f(x + h) - f(x))/h"
   ]
  },
  {
   "cell_type": "code",
   "execution_count": 102,
   "metadata": {},
   "outputs": [
    {
     "name": "stdout",
     "output_type": "stream",
     "text": [
      "4.0\n"
     ]
    }
   ],
   "source": [
    "# let's get more complex\n",
    "a = 2.0\n",
    "b = -3.0\n",
    "c = 10.0\n",
    "d = a*b + c\n",
    "print(d)"
   ]
  },
  {
   "cell_type": "code",
   "execution_count": 103,
   "metadata": {},
   "outputs": [
    {
     "name": "stdout",
     "output_type": "stream",
     "text": [
      "d1 4.0\n",
      "d2 3.9999699999999994\n",
      "slope -3.000000000064062\n"
     ]
    }
   ],
   "source": [
    "h = 0.00001\n",
    "\n",
    "# inputs\n",
    "a = 2.0\n",
    "b = -3.0\n",
    "c = 10.0\n",
    "\n",
    "d1 = a*b + c\n",
    "a += h\n",
    "d2 = a*b + c\n",
    "\n",
    "print('d1', d1)\n",
    "print('d2', d2)\n",
    "print('slope', (d2 - d1)/h)"
   ]
  },
  {
   "cell_type": "code",
   "execution_count": 104,
   "metadata": {},
   "outputs": [],
   "source": [
    "from graphviz import Digraph\n",
    "\n",
    "def trace(root):\n",
    "    nodes, edges = set(), set()\n",
    "    def build(v):\n",
    "        if v not in nodes:\n",
    "            nodes.add(v)\n",
    "            for child in v._prev:\n",
    "                edges.add((child, v))\n",
    "                build(child)\n",
    "    build(root)\n",
    "    return nodes, edges\n",
    "\n",
    "def draw_dot(root):\n",
    "    dot = Digraph(format='svg', graph_attr={'rankdir': 'LR'}) # rank_direction = LR is left to right\n",
    "\n",
    "    nodes, edges = trace(root)\n",
    "    for node in nodes:\n",
    "        uid = str(id(node))\n",
    "        dot.node(name = uid, label = \"{ %s | data %.4f | grad %.4f }\" % (node.label, node.data, node.grad), shape='record')\n",
    "        if node._op:\n",
    "            dot.node(name = uid + node._op, label = node._op)\n",
    "            dot.edge(uid + node._op, uid)\n",
    "        \n",
    "    for src, dst in edges:\n",
    "        dot.edge(str(id(src)), str(id(dst)) + (dst._op or ''))\n",
    "    \n",
    "    return dot"
   ]
  },
  {
   "cell_type": "code",
   "execution_count": 105,
   "metadata": {},
   "outputs": [],
   "source": [
    "class Value:\n",
    "    def __init__(self, data, _children=(), _op='', label=''):\n",
    "        self.data = data\n",
    "        self.grad = 0.0\n",
    "        self._prev = set(_children)\n",
    "        self._op = _op\n",
    "        self.label = label\n",
    "\n",
    "    def __repr__(self):\n",
    "        return f\"Value(data={self.data})\"\n",
    "    \n",
    "    def __add__(self, other):\n",
    "        return Value(self.data + other.data, (self, other), '+')\n",
    "    \n",
    "    def __mul__(self, other):\n",
    "        return Value(self.data * other.data, (self, other), '*')"
   ]
  },
  {
   "cell_type": "code",
   "execution_count": 106,
   "metadata": {},
   "outputs": [
    {
     "data": {
      "text/plain": [
       "Value(data=-8.0)"
      ]
     },
     "execution_count": 106,
     "metadata": {},
     "output_type": "execute_result"
    }
   ],
   "source": [
    "a = Value(2.0, label='a')\n",
    "b = Value(-3.0, label='b')\n",
    "c = Value(10.0, label='c')\n",
    "\n",
    "e = a*b;  e.label = 'e'\n",
    "d = e + c; d.label = 'd'\n",
    "f = Value(-2.0, label='f')\n",
    "L = d*f; L.label = 'L'\n",
    "\n",
    "L"
   ]
  },
  {
   "cell_type": "code",
   "execution_count": 107,
   "metadata": {},
   "outputs": [
    {
     "data": {
      "text/plain": [
       "(Value(data=4.0), {Value(data=-6.0), Value(data=10.0)}, '+')"
      ]
     },
     "execution_count": 107,
     "metadata": {},
     "output_type": "execute_result"
    }
   ],
   "source": [
    "d, d._prev, d._op"
   ]
  },
  {
   "cell_type": "code",
   "execution_count": 116,
   "metadata": {},
   "outputs": [
    {
     "data": {
      "image/svg+xml": [
       "<?xml version=\"1.0\" encoding=\"UTF-8\" standalone=\"no\"?>\n",
       "<!DOCTYPE svg PUBLIC \"-//W3C//DTD SVG 1.1//EN\"\n",
       " \"http://www.w3.org/Graphics/SVG/1.1/DTD/svg11.dtd\">\n",
       "<!-- Generated by graphviz version 2.43.0 (0)\n",
       " -->\n",
       "<!-- Title: %3 Pages: 1 -->\n",
       "<svg width=\"1343pt\" height=\"154pt\"\n",
       " viewBox=\"0.00 0.00 1343.00 154.00\" xmlns=\"http://www.w3.org/2000/svg\" xmlns:xlink=\"http://www.w3.org/1999/xlink\">\n",
       "<g id=\"graph0\" class=\"graph\" transform=\"scale(1 1) rotate(0) translate(4 150)\">\n",
       "<title>%3</title>\n",
       "<polygon fill=\"white\" stroke=\"transparent\" points=\"-4,4 -4,-150 1339,-150 1339,4 -4,4\"/>\n",
       "<!-- 139373452693024 -->\n",
       "<g id=\"node1\" class=\"node\">\n",
       "<title>139373452693024</title>\n",
       "<polygon fill=\"none\" stroke=\"black\" points=\"736,-54.5 736,-90.5 972,-90.5 972,-54.5 736,-54.5\"/>\n",
       "<text text-anchor=\"middle\" x=\"749\" y=\"-68.8\" font-family=\"Times,serif\" font-size=\"14.00\">d</text>\n",
       "<polyline fill=\"none\" stroke=\"black\" points=\"762,-54.5 762,-90.5 \"/>\n",
       "<text text-anchor=\"middle\" x=\"813\" y=\"-68.8\" font-family=\"Times,serif\" font-size=\"14.00\">data 4.0000</text>\n",
       "<polyline fill=\"none\" stroke=\"black\" points=\"864,-54.5 864,-90.5 \"/>\n",
       "<text text-anchor=\"middle\" x=\"918\" y=\"-68.8\" font-family=\"Times,serif\" font-size=\"14.00\">grad &#45;2.0000</text>\n",
       "</g>\n",
       "<!-- 139373452504288* -->\n",
       "<g id=\"node5\" class=\"node\">\n",
       "<title>139373452504288*</title>\n",
       "<ellipse fill=\"none\" stroke=\"black\" cx=\"1035\" cy=\"-99.5\" rx=\"27\" ry=\"18\"/>\n",
       "<text text-anchor=\"middle\" x=\"1035\" y=\"-95.8\" font-family=\"Times,serif\" font-size=\"14.00\">*</text>\n",
       "</g>\n",
       "<!-- 139373452693024&#45;&gt;139373452504288* -->\n",
       "<g id=\"edge7\" class=\"edge\">\n",
       "<title>139373452693024&#45;&gt;139373452504288*</title>\n",
       "<path fill=\"none\" stroke=\"black\" d=\"M972.15,-90.17C981.53,-91.58 990.46,-92.93 998.46,-94.14\"/>\n",
       "<polygon fill=\"black\" stroke=\"black\" points=\"998.01,-97.61 1008.42,-95.64 999.06,-90.69 998.01,-97.61\"/>\n",
       "</g>\n",
       "<!-- 139373452693024+ -->\n",
       "<g id=\"node2\" class=\"node\">\n",
       "<title>139373452693024+</title>\n",
       "<ellipse fill=\"none\" stroke=\"black\" cx=\"673\" cy=\"-72.5\" rx=\"27\" ry=\"18\"/>\n",
       "<text text-anchor=\"middle\" x=\"673\" y=\"-68.8\" font-family=\"Times,serif\" font-size=\"14.00\">+</text>\n",
       "</g>\n",
       "<!-- 139373452693024+&#45;&gt;139373452693024 -->\n",
       "<g id=\"edge1\" class=\"edge\">\n",
       "<title>139373452693024+&#45;&gt;139373452693024</title>\n",
       "<path fill=\"none\" stroke=\"black\" d=\"M700.03,-72.5C707.58,-72.5 716.38,-72.5 725.87,-72.5\"/>\n",
       "<polygon fill=\"black\" stroke=\"black\" points=\"725.99,-76 735.99,-72.5 725.99,-69 725.99,-76\"/>\n",
       "</g>\n",
       "<!-- 139373452503088 -->\n",
       "<g id=\"node3\" class=\"node\">\n",
       "<title>139373452503088</title>\n",
       "<polygon fill=\"none\" stroke=\"black\" points=\"367,-82.5 367,-118.5 610,-118.5 610,-82.5 367,-82.5\"/>\n",
       "<text text-anchor=\"middle\" x=\"379\" y=\"-96.8\" font-family=\"Times,serif\" font-size=\"14.00\">c</text>\n",
       "<polyline fill=\"none\" stroke=\"black\" points=\"391,-82.5 391,-118.5 \"/>\n",
       "<text text-anchor=\"middle\" x=\"446.5\" y=\"-96.8\" font-family=\"Times,serif\" font-size=\"14.00\">data 10.0000</text>\n",
       "<polyline fill=\"none\" stroke=\"black\" points=\"502,-82.5 502,-118.5 \"/>\n",
       "<text text-anchor=\"middle\" x=\"556\" y=\"-96.8\" font-family=\"Times,serif\" font-size=\"14.00\">grad &#45;2.0000</text>\n",
       "</g>\n",
       "<!-- 139373452503088&#45;&gt;139373452693024+ -->\n",
       "<g id=\"edge8\" class=\"edge\">\n",
       "<title>139373452503088&#45;&gt;139373452693024+</title>\n",
       "<path fill=\"none\" stroke=\"black\" d=\"M606.89,-82.49C617.53,-80.86 627.65,-79.3 636.61,-77.93\"/>\n",
       "<polygon fill=\"black\" stroke=\"black\" points=\"637.2,-81.38 646.55,-76.4 636.14,-74.46 637.2,-81.38\"/>\n",
       "</g>\n",
       "<!-- 139373452504288 -->\n",
       "<g id=\"node4\" class=\"node\">\n",
       "<title>139373452504288</title>\n",
       "<polygon fill=\"none\" stroke=\"black\" points=\"1098,-81.5 1098,-117.5 1335,-117.5 1335,-81.5 1098,-81.5\"/>\n",
       "<text text-anchor=\"middle\" x=\"1111\" y=\"-95.8\" font-family=\"Times,serif\" font-size=\"14.00\">L</text>\n",
       "<polyline fill=\"none\" stroke=\"black\" points=\"1124,-81.5 1124,-117.5 \"/>\n",
       "<text text-anchor=\"middle\" x=\"1177.5\" y=\"-95.8\" font-family=\"Times,serif\" font-size=\"14.00\">data &#45;8.0000</text>\n",
       "<polyline fill=\"none\" stroke=\"black\" points=\"1231,-81.5 1231,-117.5 \"/>\n",
       "<text text-anchor=\"middle\" x=\"1283\" y=\"-95.8\" font-family=\"Times,serif\" font-size=\"14.00\">grad 1.0000</text>\n",
       "</g>\n",
       "<!-- 139373452504288*&#45;&gt;139373452504288 -->\n",
       "<g id=\"edge2\" class=\"edge\">\n",
       "<title>139373452504288*&#45;&gt;139373452504288</title>\n",
       "<path fill=\"none\" stroke=\"black\" d=\"M1062.1,-99.5C1069.61,-99.5 1078.33,-99.5 1087.75,-99.5\"/>\n",
       "<polygon fill=\"black\" stroke=\"black\" points=\"1087.78,-103 1097.78,-99.5 1087.78,-96 1087.78,-103\"/>\n",
       "</g>\n",
       "<!-- 139373452506352 -->\n",
       "<g id=\"node6\" class=\"node\">\n",
       "<title>139373452506352</title>\n",
       "<polygon fill=\"none\" stroke=\"black\" points=\"368.5,-27.5 368.5,-63.5 608.5,-63.5 608.5,-27.5 368.5,-27.5\"/>\n",
       "<text text-anchor=\"middle\" x=\"381\" y=\"-41.8\" font-family=\"Times,serif\" font-size=\"14.00\">e</text>\n",
       "<polyline fill=\"none\" stroke=\"black\" points=\"393.5,-27.5 393.5,-63.5 \"/>\n",
       "<text text-anchor=\"middle\" x=\"447\" y=\"-41.8\" font-family=\"Times,serif\" font-size=\"14.00\">data &#45;6.0000</text>\n",
       "<polyline fill=\"none\" stroke=\"black\" points=\"500.5,-27.5 500.5,-63.5 \"/>\n",
       "<text text-anchor=\"middle\" x=\"554.5\" y=\"-41.8\" font-family=\"Times,serif\" font-size=\"14.00\">grad &#45;2.0000</text>\n",
       "</g>\n",
       "<!-- 139373452506352&#45;&gt;139373452693024+ -->\n",
       "<g id=\"edge9\" class=\"edge\">\n",
       "<title>139373452506352&#45;&gt;139373452693024+</title>\n",
       "<path fill=\"none\" stroke=\"black\" d=\"M608.68,-63.13C618.57,-64.6 627.98,-65.99 636.37,-67.23\"/>\n",
       "<polygon fill=\"black\" stroke=\"black\" points=\"636.02,-70.71 646.42,-68.72 637.04,-63.79 636.02,-70.71\"/>\n",
       "</g>\n",
       "<!-- 139373452506352* -->\n",
       "<g id=\"node7\" class=\"node\">\n",
       "<title>139373452506352*</title>\n",
       "<ellipse fill=\"none\" stroke=\"black\" cx=\"304\" cy=\"-45.5\" rx=\"27\" ry=\"18\"/>\n",
       "<text text-anchor=\"middle\" x=\"304\" y=\"-41.8\" font-family=\"Times,serif\" font-size=\"14.00\">*</text>\n",
       "</g>\n",
       "<!-- 139373452506352*&#45;&gt;139373452506352 -->\n",
       "<g id=\"edge3\" class=\"edge\">\n",
       "<title>139373452506352*&#45;&gt;139373452506352</title>\n",
       "<path fill=\"none\" stroke=\"black\" d=\"M331.15,-45.5C338.98,-45.5 348.16,-45.5 358.06,-45.5\"/>\n",
       "<polygon fill=\"black\" stroke=\"black\" points=\"358.19,-49 368.19,-45.5 358.19,-42 358.19,-49\"/>\n",
       "</g>\n",
       "<!-- 139373452508944 -->\n",
       "<g id=\"node8\" class=\"node\">\n",
       "<title>139373452508944</title>\n",
       "<polygon fill=\"none\" stroke=\"black\" points=\"5,-55.5 5,-91.5 236,-91.5 236,-55.5 5,-55.5\"/>\n",
       "<text text-anchor=\"middle\" x=\"17.5\" y=\"-69.8\" font-family=\"Times,serif\" font-size=\"14.00\">a</text>\n",
       "<polyline fill=\"none\" stroke=\"black\" points=\"30,-55.5 30,-91.5 \"/>\n",
       "<text text-anchor=\"middle\" x=\"81\" y=\"-69.8\" font-family=\"Times,serif\" font-size=\"14.00\">data 2.0000</text>\n",
       "<polyline fill=\"none\" stroke=\"black\" points=\"132,-55.5 132,-91.5 \"/>\n",
       "<text text-anchor=\"middle\" x=\"184\" y=\"-69.8\" font-family=\"Times,serif\" font-size=\"14.00\">grad 6.0000</text>\n",
       "</g>\n",
       "<!-- 139373452508944&#45;&gt;139373452506352* -->\n",
       "<g id=\"edge4\" class=\"edge\">\n",
       "<title>139373452508944&#45;&gt;139373452506352*</title>\n",
       "<path fill=\"none\" stroke=\"black\" d=\"M236.19,-55.81C247.37,-54.08 258.02,-52.44 267.41,-50.99\"/>\n",
       "<polygon fill=\"black\" stroke=\"black\" points=\"268.08,-54.43 277.43,-49.44 267.01,-47.51 268.08,-54.43\"/>\n",
       "</g>\n",
       "<!-- 139373452497232 -->\n",
       "<g id=\"node9\" class=\"node\">\n",
       "<title>139373452497232</title>\n",
       "<polygon fill=\"none\" stroke=\"black\" points=\"737.5,-109.5 737.5,-145.5 970.5,-145.5 970.5,-109.5 737.5,-109.5\"/>\n",
       "<text text-anchor=\"middle\" x=\"748.5\" y=\"-123.8\" font-family=\"Times,serif\" font-size=\"14.00\">f</text>\n",
       "<polyline fill=\"none\" stroke=\"black\" points=\"759.5,-109.5 759.5,-145.5 \"/>\n",
       "<text text-anchor=\"middle\" x=\"813\" y=\"-123.8\" font-family=\"Times,serif\" font-size=\"14.00\">data &#45;2.0000</text>\n",
       "<polyline fill=\"none\" stroke=\"black\" points=\"866.5,-109.5 866.5,-145.5 \"/>\n",
       "<text text-anchor=\"middle\" x=\"918.5\" y=\"-123.8\" font-family=\"Times,serif\" font-size=\"14.00\">grad 4.0000</text>\n",
       "</g>\n",
       "<!-- 139373452497232&#45;&gt;139373452504288* -->\n",
       "<g id=\"edge6\" class=\"edge\">\n",
       "<title>139373452497232&#45;&gt;139373452504288*</title>\n",
       "<path fill=\"none\" stroke=\"black\" d=\"M970.13,-109.49C980.27,-107.91 989.92,-106.4 998.51,-105.05\"/>\n",
       "<polygon fill=\"black\" stroke=\"black\" points=\"999.09,-108.5 1008.43,-103.5 998.01,-101.59 999.09,-108.5\"/>\n",
       "</g>\n",
       "<!-- 139373452507600 -->\n",
       "<g id=\"node10\" class=\"node\">\n",
       "<title>139373452507600</title>\n",
       "<polygon fill=\"none\" stroke=\"black\" points=\"0,-0.5 0,-36.5 241,-36.5 241,-0.5 0,-0.5\"/>\n",
       "<text text-anchor=\"middle\" x=\"13\" y=\"-14.8\" font-family=\"Times,serif\" font-size=\"14.00\">b</text>\n",
       "<polyline fill=\"none\" stroke=\"black\" points=\"26,-0.5 26,-36.5 \"/>\n",
       "<text text-anchor=\"middle\" x=\"79.5\" y=\"-14.8\" font-family=\"Times,serif\" font-size=\"14.00\">data &#45;3.0000</text>\n",
       "<polyline fill=\"none\" stroke=\"black\" points=\"133,-0.5 133,-36.5 \"/>\n",
       "<text text-anchor=\"middle\" x=\"187\" y=\"-14.8\" font-family=\"Times,serif\" font-size=\"14.00\">grad &#45;4.0000</text>\n",
       "</g>\n",
       "<!-- 139373452507600&#45;&gt;139373452506352* -->\n",
       "<g id=\"edge5\" class=\"edge\">\n",
       "<title>139373452507600&#45;&gt;139373452506352*</title>\n",
       "<path fill=\"none\" stroke=\"black\" d=\"M241.05,-36.28C250.46,-37.68 259.41,-39.02 267.44,-40.21\"/>\n",
       "<polygon fill=\"black\" stroke=\"black\" points=\"267.01,-43.68 277.41,-41.69 268.04,-36.76 267.01,-43.68\"/>\n",
       "</g>\n",
       "</g>\n",
       "</svg>\n"
      ],
      "text/plain": [
       "<graphviz.graphs.Digraph at 0x7ec26920ae90>"
      ]
     },
     "execution_count": 116,
     "metadata": {},
     "output_type": "execute_result"
    }
   ],
   "source": [
    "draw_dot(L)"
   ]
  },
  {
   "cell_type": "code",
   "execution_count": 115,
   "metadata": {},
   "outputs": [],
   "source": [
    "L.grad = 1\n",
    "d.grad = f.data\n",
    "f.grad = d.data\n",
    "c.grad = d.grad\n",
    "e.grad = d.grad\n",
    "a.grad = e.grad * b.data\n",
    "b.grad = e.grad * a.data"
   ]
  },
  {
   "cell_type": "code",
   "execution_count": 123,
   "metadata": {},
   "outputs": [],
   "source": [
    "lr = 0.01\n",
    "leaf_nodes = [a, b, c, f]\n",
    "for node in leaf_nodes:\n",
    "    node.data += lr * node.grad"
   ]
  },
  {
   "cell_type": "code",
   "execution_count": 124,
   "metadata": {},
   "outputs": [
    {
     "name": "stdout",
     "output_type": "stream",
     "text": [
      "-6.586368000000001\n"
     ]
    }
   ],
   "source": [
    "# forward pass\n",
    "e = a*b\n",
    "d = e + c\n",
    "L = d*f\n",
    "\n",
    "print(L.data)"
   ]
  },
  {
   "cell_type": "code",
   "execution_count": 120,
   "metadata": {},
   "outputs": [
    {
     "name": "stdout",
     "output_type": "stream",
     "text": [
      "-4.000000000008441\n"
     ]
    }
   ],
   "source": [
    "def lol():\n",
    "    h = 0.0001\n",
    "    \n",
    "    a = Value(2.0, label='a')\n",
    "    b = Value(-3.0, label='b')\n",
    "    c = Value(10.0, label='c')\n",
    "    e = a*b;  e.label = 'e'\n",
    "    d = e + c; d.label = 'd'\n",
    "    f = Value(-2.0, label='f')\n",
    "    L = d*f; L.label = 'L'\n",
    "    L1 = L.data\n",
    "    \n",
    "    a = Value(2.0, label='a')\n",
    "    b = Value(-3.0, label='b')\n",
    "    b.data += h\n",
    "    c = Value(10.0, label='c')\n",
    "    e = a*b;  e.label = 'e'\n",
    "    d = e + c; d.label = 'd'\n",
    "    f = Value(-2.0, label='f')\n",
    "    L = d*f; L.label = 'L'\n",
    "    L2 = L.data\n",
    "\n",
    "    print((L2 - L1)/h)\n",
    "\n",
    "lol()"
   ]
  },
  {
   "cell_type": "code",
   "execution_count": null,
   "metadata": {},
   "outputs": [],
   "source": []
  }
 ],
 "metadata": {
  "kernelspec": {
   "display_name": "Python 3",
   "language": "python",
   "name": "python3"
  },
  "language_info": {
   "codemirror_mode": {
    "name": "ipython",
    "version": 3
   },
   "file_extension": ".py",
   "mimetype": "text/x-python",
   "name": "python",
   "nbconvert_exporter": "python",
   "pygments_lexer": "ipython3",
   "version": "3.10.12"
  }
 },
 "nbformat": 4,
 "nbformat_minor": 2
}
