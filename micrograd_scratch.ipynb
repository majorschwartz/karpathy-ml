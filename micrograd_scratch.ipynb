{
 "cells": [
  {
   "cell_type": "code",
   "execution_count": 103,
   "metadata": {},
   "outputs": [],
   "source": [
    "import math\n",
    "import numpy as np\n",
    "import matplotlib.pyplot as plt\n",
    "%matplotlib inline"
   ]
  },
  {
   "cell_type": "markdown",
   "metadata": {},
   "source": [
    "## Beginning section"
   ]
  },
  {
   "cell_type": "code",
   "execution_count": 104,
   "metadata": {},
   "outputs": [],
   "source": [
    "def f(x):\n",
    "    return 3*x**2 - 4*x + 5"
   ]
  },
  {
   "cell_type": "code",
   "execution_count": 105,
   "metadata": {},
   "outputs": [
    {
     "data": {
      "text/plain": [
       "20"
      ]
     },
     "execution_count": 105,
     "metadata": {},
     "output_type": "execute_result"
    }
   ],
   "source": [
    "f(3)"
   ]
  },
  {
   "cell_type": "code",
   "execution_count": 106,
   "metadata": {},
   "outputs": [
    {
     "data": {
      "text/plain": [
       "[<matplotlib.lines.Line2D at 0x73076dcb1ae0>]"
      ]
     },
     "execution_count": 106,
     "metadata": {},
     "output_type": "execute_result"
    },
    {
     "data": {
      "image/png": "[encoded data removed]",
      "text/plain": [
       "<Figure size 432x288 with 1 Axes>"
      ]
     },
     "metadata": {
      "needs_background": "light"
     },
     "output_type": "display_data"
    }
   ],
   "source": [
    "xs = np.arange(-5, 5, 0.25)\n",
    "ys = f(xs)\n",
    "plt.plot(xs, ys)"
   ]
  },
  {
   "cell_type": "code",
   "execution_count": 107,
   "metadata": {},
   "outputs": [
    {
     "data": {
      "text/plain": [
       "0.0"
      ]
     },
     "execution_count": 107,
     "metadata": {},
     "output_type": "execute_result"
    }
   ],
   "source": [
    "h = 0.00000001\n",
    "x = 2/3\n",
    "(f(x + h) - f(x))/h"
   ]
  },
  {
   "cell_type": "code",
   "execution_count": 108,
   "metadata": {},
   "outputs": [
    {
     "name": "stdout",
     "output_type": "stream",
     "text": [
      "4.0\n"
     ]
    }
   ],
   "source": [
    "# let's get more complex\n",
    "a = 2.0\n",
    "b = -3.0\n",
    "c = 10.0\n",
    "d = a*b + c\n",
    "print(d)"
   ]
  },
  {
   "cell_type": "code",
   "execution_count": 109,
   "metadata": {},
   "outputs": [
    {
     "name": "stdout",
     "output_type": "stream",
     "text": [
      "d1 4.0\n",
      "d2 3.9999699999999994\n",
      "slope -3.000000000064062\n"
     ]
    }
   ],
   "source": [
    "h = 0.00001\n",
    "\n",
    "# inputs\n",
    "a = 2.0\n",
    "b = -3.0\n",
    "c = 10.0\n",
    "\n",
    "d1 = a*b + c\n",
    "a += h\n",
    "d2 = a*b + c\n",
    "\n",
    "print('d1', d1)\n",
    "print('d2', d2)\n",
    "print('slope', (d2 - d1)/h)"
   ]
  },
  {
   "cell_type": "markdown",
   "metadata": {},
   "source": [
    "## Critical functions"
   ]
  },
  {
   "cell_type": "code",
   "execution_count": 110,
   "metadata": {},
   "outputs": [],
   "source": [
    "from graphviz import Digraph\n",
    "\n",
    "def trace(root):\n",
    "    nodes, edges = set(), set()\n",
    "    def build(v):\n",
    "        if v not in nodes:\n",
    "            nodes.add(v)\n",
    "            for child in v._prev:\n",
    "                edges.add((child, v))\n",
    "                build(child)\n",
    "    build(root)\n",
    "    return nodes, edges\n",
    "\n",
    "def draw_dot(root):\n",
    "    dot = Digraph(format='svg', graph_attr={'rankdir': 'LR'}) # rank_direction = LR is left to right\n",
    "\n",
    "    nodes, edges = trace(root)\n",
    "    for node in nodes:\n",
    "        uid = str(id(node))\n",
    "        dot.node(name = uid, label = \"{ %s | data %.4f | grad %.4f }\" % (node.label, node.data, node.grad), shape='record')\n",
    "        if node._op:\n",
    "            dot.node(name = uid + node._op, label = node._op)\n",
    "            dot.edge(uid + node._op, uid)\n",
    "        \n",
    "    for src, dst in edges:\n",
    "        dot.edge(str(id(src)), str(id(dst)) + (dst._op or ''))\n",
    "    \n",
    "    return dot"
   ]
  },
  {
   "cell_type": "code",
   "execution_count": 111,
   "metadata": {},
   "outputs": [],
   "source": [
    "class Value:\n",
    "    def __init__(self, data, _children=(), _op='', label=''):\n",
    "        self.data = data\n",
    "        self.grad = 0.0\n",
    "        self._backward = lambda: None\n",
    "        self._prev = set(_children)\n",
    "        self._op = _op\n",
    "        self.label = label\n",
    "\n",
    "    def __repr__(self):\n",
    "        return f\"Value(data={self.data})\"\n",
    "    \n",
    "    def __add__(self, other):\n",
    "        out = Value(self.data + other.data, (self, other), '+')\n",
    "        def _backward():\n",
    "            self.grad += 1.0 * out.grad\n",
    "            other.grad += 1.0 * out.grad\n",
    "        out._backward = _backward\n",
    "        return out\n",
    "    \n",
    "    def __mul__(self, other):\n",
    "        out = Value(self.data * other.data, (self, other), '*')\n",
    "        def _backward():\n",
    "            self.grad += other.data * out.grad\n",
    "            other.grad += self.data * out.grad\n",
    "        out._backward = _backward\n",
    "        return out\n",
    "    \n",
    "    def tanh(self):\n",
    "        out = Value((math.exp(2 * self.data) - 1) / (math.exp(2 * self.data) + 1), (self,), 'tanh')\n",
    "        def _backward():\n",
    "            self.grad += (1 - out.data**2) * out.grad\n",
    "        out._backward = _backward\n",
    "        return out\n",
    "    \n",
    "    def backward(self):\n",
    "        topo = []\n",
    "        visited = set()\n",
    "        def build_topo(v):\n",
    "            if v not in visited:\n",
    "                visited.add(v)\n",
    "                for child in v._prev:\n",
    "                    build_topo(child)\n",
    "                topo.append(v)\n",
    "        build_topo(self)\n",
    "        \n",
    "        self.grad = 1.0\n",
    "        for n in reversed(topo):\n",
    "            n._backward()"
   ]
  },
  {
   "cell_type": "markdown",
   "metadata": {},
   "source": [
    "## Manual back-prop testing"
   ]
  },
  {
   "cell_type": "code",
   "execution_count": 112,
   "metadata": {},
   "outputs": [
    {
     "data": {
      "text/plain": [
       "Value(data=-8.0)"
      ]
     },
     "execution_count": 112,
     "metadata": {},
     "output_type": "execute_result"
    }
   ],
   "source": [
    "a = Value(2.0, label='a')\n",
    "b = Value(-3.0, label='b')\n",
    "c = Value(10.0, label='c')\n",
    "\n",
    "e = a*b;  e.label = 'e'\n",
    "d = e + c; d.label = 'd'\n",
    "f = Value(-2.0, label='f')\n",
    "L = d*f; L.label = 'L'\n",
    "\n",
    "L"
   ]
  },
  {
   "cell_type": "code",
   "execution_count": 113,
   "metadata": {},
   "outputs": [
    {
     "data": {
      "text/plain": [
       "(Value(data=4.0), {Value(data=-6.0), Value(data=10.0)}, '+')"
      ]
     },
     "execution_count": 113,
     "metadata": {},
     "output_type": "execute_result"
    }
   ],
   "source": [
    "d, d._prev, d._op"
   ]
  },
  {
   "cell_type": "code",
   "execution_count": 114,
   "metadata": {},
   "outputs": [],
   "source": [
    "L.grad = 1\n",
    "d.grad = f.data\n",
    "f.grad = d.data\n",
    "c.grad = d.grad\n",
    "e.grad = d.grad\n",
    "a.grad = e.grad * b.data\n",
    "b.grad = e.grad * a.data"
   ]
  },
  {
   "cell_type": "code",
   "execution_count": 115,
   "metadata": {},
   "outputs": [
    {
     "data": {
      "image/svg+xml": [
       "<?xml version=\"1.0\" encoding=\"UTF-8\" standalone=\"no\"?>\n",
       "<!DOCTYPE svg PUBLIC \"-//W3C//DTD SVG 1.1//EN\"\n",
       " \"http://www.w3.org/Graphics/SVG/1.1/DTD/svg11.dtd\">\n",
       "<!-- Generated by graphviz version 2.43.0 (0)\n",
       " -->\n",
       "<!-- Title: %3 Pages: 1 -->\n",
       "<svg width=\"1343pt\" height=\"154pt\"\n",
       " viewBox=\"0.00 0.00 1343.00 154.00\" xmlns=\"http://www.w3.org/2000/svg\" xmlns:xlink=\"http://www.w3.org/1999/xlink\">\n",
       "<g id=\"graph0\" class=\"graph\" transform=\"scale(1 1) rotate(0) translate(4 150)\">\n",
       "<title>%3</title>\n",
       "<polygon fill=\"white\" stroke=\"transparent\" points=\"-4,4 -4,-150 1339,-150 1339,4 -4,4\"/>\n",
       "<!-- 126475744967168 -->\n",
       "<g id=\"node1\" class=\"node\">\n",
       "<title>126475744967168</title>\n",
       "<polygon fill=\"none\" stroke=\"black\" points=\"368.5,-27.5 368.5,-63.5 608.5,-63.5 608.5,-27.5 368.5,-27.5\"/>\n",
       "<text text-anchor=\"middle\" x=\"381\" y=\"-41.8\" font-family=\"Times,serif\" font-size=\"14.00\">e</text>\n",
       "<polyline fill=\"none\" stroke=\"black\" points=\"393.5,-27.5 393.5,-63.5 \"/>\n",
       "<text text-anchor=\"middle\" x=\"447\" y=\"-41.8\" font-family=\"Times,serif\" font-size=\"14.00\">data &#45;6.0000</text>\n",
       "<polyline fill=\"none\" stroke=\"black\" points=\"500.5,-27.5 500.5,-63.5 \"/>\n",
       "<text text-anchor=\"middle\" x=\"554.5\" y=\"-41.8\" font-family=\"Times,serif\" font-size=\"14.00\">grad &#45;2.0000</text>\n",
       "</g>\n",
       "<!-- 126475744967744+ -->\n",
       "<g id=\"node4\" class=\"node\">\n",
       "<title>126475744967744+</title>\n",
       "<ellipse fill=\"none\" stroke=\"black\" cx=\"673\" cy=\"-72.5\" rx=\"27\" ry=\"18\"/>\n",
       "<text text-anchor=\"middle\" x=\"673\" y=\"-68.8\" font-family=\"Times,serif\" font-size=\"14.00\">+</text>\n",
       "</g>\n",
       "<!-- 126475744967168&#45;&gt;126475744967744+ -->\n",
       "<g id=\"edge7\" class=\"edge\">\n",
       "<title>126475744967168&#45;&gt;126475744967744+</title>\n",
       "<path fill=\"none\" stroke=\"black\" d=\"M608.68,-63.13C618.57,-64.6 627.98,-65.99 636.37,-67.23\"/>\n",
       "<polygon fill=\"black\" stroke=\"black\" points=\"636.02,-70.71 646.42,-68.72 637.04,-63.79 636.02,-70.71\"/>\n",
       "</g>\n",
       "<!-- 126475744967168* -->\n",
       "<g id=\"node2\" class=\"node\">\n",
       "<title>126475744967168*</title>\n",
       "<ellipse fill=\"none\" stroke=\"black\" cx=\"304\" cy=\"-45.5\" rx=\"27\" ry=\"18\"/>\n",
       "<text text-anchor=\"middle\" x=\"304\" y=\"-41.8\" font-family=\"Times,serif\" font-size=\"14.00\">*</text>\n",
       "</g>\n",
       "<!-- 126475744967168*&#45;&gt;126475744967168 -->\n",
       "<g id=\"edge1\" class=\"edge\">\n",
       "<title>126475744967168*&#45;&gt;126475744967168</title>\n",
       "<path fill=\"none\" stroke=\"black\" d=\"M331.15,-45.5C338.98,-45.5 348.16,-45.5 358.06,-45.5\"/>\n",
       "<polygon fill=\"black\" stroke=\"black\" points=\"358.19,-49 368.19,-45.5 358.19,-42 358.19,-49\"/>\n",
       "</g>\n",
       "<!-- 126475744967744 -->\n",
       "<g id=\"node3\" class=\"node\">\n",
       "<title>126475744967744</title>\n",
       "<polygon fill=\"none\" stroke=\"black\" points=\"736,-54.5 736,-90.5 972,-90.5 972,-54.5 736,-54.5\"/>\n",
       "<text text-anchor=\"middle\" x=\"749\" y=\"-68.8\" font-family=\"Times,serif\" font-size=\"14.00\">d</text>\n",
       "<polyline fill=\"none\" stroke=\"black\" points=\"762,-54.5 762,-90.5 \"/>\n",
       "<text text-anchor=\"middle\" x=\"813\" y=\"-68.8\" font-family=\"Times,serif\" font-size=\"14.00\">data 4.0000</text>\n",
       "<polyline fill=\"none\" stroke=\"black\" points=\"864,-54.5 864,-90.5 \"/>\n",
       "<text text-anchor=\"middle\" x=\"918\" y=\"-68.8\" font-family=\"Times,serif\" font-size=\"14.00\">grad &#45;2.0000</text>\n",
       "</g>\n",
       "<!-- 126475744963568* -->\n",
       "<g id=\"node10\" class=\"node\">\n",
       "<title>126475744963568*</title>\n",
       "<ellipse fill=\"none\" stroke=\"black\" cx=\"1035\" cy=\"-99.5\" rx=\"27\" ry=\"18\"/>\n",
       "<text text-anchor=\"middle\" x=\"1035\" y=\"-95.8\" font-family=\"Times,serif\" font-size=\"14.00\">*</text>\n",
       "</g>\n",
       "<!-- 126475744967744&#45;&gt;126475744963568* -->\n",
       "<g id=\"edge5\" class=\"edge\">\n",
       "<title>126475744967744&#45;&gt;126475744963568*</title>\n",
       "<path fill=\"none\" stroke=\"black\" d=\"M972.15,-90.17C981.53,-91.58 990.46,-92.93 998.46,-94.14\"/>\n",
       "<polygon fill=\"black\" stroke=\"black\" points=\"998.01,-97.61 1008.42,-95.64 999.06,-90.69 998.01,-97.61\"/>\n",
       "</g>\n",
       "<!-- 126475744967744+&#45;&gt;126475744967744 -->\n",
       "<g id=\"edge2\" class=\"edge\">\n",
       "<title>126475744967744+&#45;&gt;126475744967744</title>\n",
       "<path fill=\"none\" stroke=\"black\" d=\"M700.03,-72.5C707.58,-72.5 716.38,-72.5 725.87,-72.5\"/>\n",
       "<polygon fill=\"black\" stroke=\"black\" points=\"725.99,-76 735.99,-72.5 725.99,-69 725.99,-76\"/>\n",
       "</g>\n",
       "<!-- 126475744965296 -->\n",
       "<g id=\"node5\" class=\"node\">\n",
       "<title>126475744965296</title>\n",
       "<polygon fill=\"none\" stroke=\"black\" points=\"0,-55.5 0,-91.5 241,-91.5 241,-55.5 0,-55.5\"/>\n",
       "<text text-anchor=\"middle\" x=\"13\" y=\"-69.8\" font-family=\"Times,serif\" font-size=\"14.00\">b</text>\n",
       "<polyline fill=\"none\" stroke=\"black\" points=\"26,-55.5 26,-91.5 \"/>\n",
       "<text text-anchor=\"middle\" x=\"79.5\" y=\"-69.8\" font-family=\"Times,serif\" font-size=\"14.00\">data &#45;3.0000</text>\n",
       "<polyline fill=\"none\" stroke=\"black\" points=\"133,-55.5 133,-91.5 \"/>\n",
       "<text text-anchor=\"middle\" x=\"187\" y=\"-69.8\" font-family=\"Times,serif\" font-size=\"14.00\">grad &#45;4.0000</text>\n",
       "</g>\n",
       "<!-- 126475744965296&#45;&gt;126475744967168* -->\n",
       "<g id=\"edge8\" class=\"edge\">\n",
       "<title>126475744965296&#45;&gt;126475744967168*</title>\n",
       "<path fill=\"none\" stroke=\"black\" d=\"M238.24,-55.49C248.61,-53.89 258.49,-52.37 267.27,-51.01\"/>\n",
       "<polygon fill=\"black\" stroke=\"black\" points=\"268.03,-54.44 277.38,-49.45 266.97,-47.52 268.03,-54.44\"/>\n",
       "</g>\n",
       "<!-- 126475744967888 -->\n",
       "<g id=\"node6\" class=\"node\">\n",
       "<title>126475744967888</title>\n",
       "<polygon fill=\"none\" stroke=\"black\" points=\"737.5,-109.5 737.5,-145.5 970.5,-145.5 970.5,-109.5 737.5,-109.5\"/>\n",
       "<text text-anchor=\"middle\" x=\"748.5\" y=\"-123.8\" font-family=\"Times,serif\" font-size=\"14.00\">f</text>\n",
       "<polyline fill=\"none\" stroke=\"black\" points=\"759.5,-109.5 759.5,-145.5 \"/>\n",
       "<text text-anchor=\"middle\" x=\"813\" y=\"-123.8\" font-family=\"Times,serif\" font-size=\"14.00\">data &#45;2.0000</text>\n",
       "<polyline fill=\"none\" stroke=\"black\" points=\"866.5,-109.5 866.5,-145.5 \"/>\n",
       "<text text-anchor=\"middle\" x=\"918.5\" y=\"-123.8\" font-family=\"Times,serif\" font-size=\"14.00\">grad 4.0000</text>\n",
       "</g>\n",
       "<!-- 126475744967888&#45;&gt;126475744963568* -->\n",
       "<g id=\"edge6\" class=\"edge\">\n",
       "<title>126475744967888&#45;&gt;126475744963568*</title>\n",
       "<path fill=\"none\" stroke=\"black\" d=\"M970.13,-109.49C980.27,-107.91 989.92,-106.4 998.51,-105.05\"/>\n",
       "<polygon fill=\"black\" stroke=\"black\" points=\"999.09,-108.5 1008.43,-103.5 998.01,-101.59 999.09,-108.5\"/>\n",
       "</g>\n",
       "<!-- 126475744956128 -->\n",
       "<g id=\"node7\" class=\"node\">\n",
       "<title>126475744956128</title>\n",
       "<polygon fill=\"none\" stroke=\"black\" points=\"367,-82.5 367,-118.5 610,-118.5 610,-82.5 367,-82.5\"/>\n",
       "<text text-anchor=\"middle\" x=\"379\" y=\"-96.8\" font-family=\"Times,serif\" font-size=\"14.00\">c</text>\n",
       "<polyline fill=\"none\" stroke=\"black\" points=\"391,-82.5 391,-118.5 \"/>\n",
       "<text text-anchor=\"middle\" x=\"446.5\" y=\"-96.8\" font-family=\"Times,serif\" font-size=\"14.00\">data 10.0000</text>\n",
       "<polyline fill=\"none\" stroke=\"black\" points=\"502,-82.5 502,-118.5 \"/>\n",
       "<text text-anchor=\"middle\" x=\"556\" y=\"-96.8\" font-family=\"Times,serif\" font-size=\"14.00\">grad &#45;2.0000</text>\n",
       "</g>\n",
       "<!-- 126475744956128&#45;&gt;126475744967744+ -->\n",
       "<g id=\"edge4\" class=\"edge\">\n",
       "<title>126475744956128&#45;&gt;126475744967744+</title>\n",
       "<path fill=\"none\" stroke=\"black\" d=\"M606.89,-82.49C617.53,-80.86 627.65,-79.3 636.61,-77.93\"/>\n",
       "<polygon fill=\"black\" stroke=\"black\" points=\"637.2,-81.38 646.55,-76.4 636.14,-74.46 637.2,-81.38\"/>\n",
       "</g>\n",
       "<!-- 126475744967648 -->\n",
       "<g id=\"node8\" class=\"node\">\n",
       "<title>126475744967648</title>\n",
       "<polygon fill=\"none\" stroke=\"black\" points=\"5,-0.5 5,-36.5 236,-36.5 236,-0.5 5,-0.5\"/>\n",
       "<text text-anchor=\"middle\" x=\"17.5\" y=\"-14.8\" font-family=\"Times,serif\" font-size=\"14.00\">a</text>\n",
       "<polyline fill=\"none\" stroke=\"black\" points=\"30,-0.5 30,-36.5 \"/>\n",
       "<text text-anchor=\"middle\" x=\"81\" y=\"-14.8\" font-family=\"Times,serif\" font-size=\"14.00\">data 2.0000</text>\n",
       "<polyline fill=\"none\" stroke=\"black\" points=\"132,-0.5 132,-36.5 \"/>\n",
       "<text text-anchor=\"middle\" x=\"184\" y=\"-14.8\" font-family=\"Times,serif\" font-size=\"14.00\">grad 6.0000</text>\n",
       "</g>\n",
       "<!-- 126475744967648&#45;&gt;126475744967168* -->\n",
       "<g id=\"edge9\" class=\"edge\">\n",
       "<title>126475744967648&#45;&gt;126475744967168*</title>\n",
       "<path fill=\"none\" stroke=\"black\" d=\"M236.19,-35.56C247.37,-37.22 258.02,-38.81 267.41,-40.21\"/>\n",
       "<polygon fill=\"black\" stroke=\"black\" points=\"267.02,-43.69 277.43,-41.7 268.05,-36.76 267.02,-43.69\"/>\n",
       "</g>\n",
       "<!-- 126475744963568 -->\n",
       "<g id=\"node9\" class=\"node\">\n",
       "<title>126475744963568</title>\n",
       "<polygon fill=\"none\" stroke=\"black\" points=\"1098,-81.5 1098,-117.5 1335,-117.5 1335,-81.5 1098,-81.5\"/>\n",
       "<text text-anchor=\"middle\" x=\"1111\" y=\"-95.8\" font-family=\"Times,serif\" font-size=\"14.00\">L</text>\n",
       "<polyline fill=\"none\" stroke=\"black\" points=\"1124,-81.5 1124,-117.5 \"/>\n",
       "<text text-anchor=\"middle\" x=\"1177.5\" y=\"-95.8\" font-family=\"Times,serif\" font-size=\"14.00\">data &#45;8.0000</text>\n",
       "<polyline fill=\"none\" stroke=\"black\" points=\"1231,-81.5 1231,-117.5 \"/>\n",
       "<text text-anchor=\"middle\" x=\"1283\" y=\"-95.8\" font-family=\"Times,serif\" font-size=\"14.00\">grad 1.0000</text>\n",
       "</g>\n",
       "<!-- 126475744963568*&#45;&gt;126475744963568 -->\n",
       "<g id=\"edge3\" class=\"edge\">\n",
       "<title>126475744963568*&#45;&gt;126475744963568</title>\n",
       "<path fill=\"none\" stroke=\"black\" d=\"M1062.1,-99.5C1069.61,-99.5 1078.33,-99.5 1087.75,-99.5\"/>\n",
       "<polygon fill=\"black\" stroke=\"black\" points=\"1087.78,-103 1097.78,-99.5 1087.78,-96 1087.78,-103\"/>\n",
       "</g>\n",
       "</g>\n",
       "</svg>\n"
      ],
      "text/plain": [
       "<graphviz.graphs.Digraph at 0x73076dd9f970>"
      ]
     },
     "execution_count": 115,
     "metadata": {},
     "output_type": "execute_result"
    }
   ],
   "source": [
    "draw_dot(L)"
   ]
  },
  {
   "cell_type": "code",
   "execution_count": 116,
   "metadata": {},
   "outputs": [],
   "source": [
    "lr = 0.01\n",
    "leaf_nodes = [a, b, c, f]\n",
    "for node in leaf_nodes:\n",
    "    node.data += lr * node.grad"
   ]
  },
  {
   "cell_type": "code",
   "execution_count": 117,
   "metadata": {},
   "outputs": [
    {
     "name": "stdout",
     "output_type": "stream",
     "text": [
      "-7.286496\n"
     ]
    }
   ],
   "source": [
    "# forward pass\n",
    "e = a*b\n",
    "d = e + c\n",
    "L = d*f\n",
    "\n",
    "print(L.data)"
   ]
  },
  {
   "cell_type": "code",
   "execution_count": 118,
   "metadata": {},
   "outputs": [
    {
     "data": {
      "image/svg+xml": [
       "<?xml version=\"1.0\" encoding=\"UTF-8\" standalone=\"no\"?>\n",
       "<!DOCTYPE svg PUBLIC \"-//W3C//DTD SVG 1.1//EN\"\n",
       " \"http://www.w3.org/Graphics/SVG/1.1/DTD/svg11.dtd\">\n",
       "<!-- Generated by graphviz version 2.43.0 (0)\n",
       " -->\n",
       "<!-- Title: %3 Pages: 1 -->\n",
       "<svg width=\"1326pt\" height=\"154pt\"\n",
       " viewBox=\"0.00 0.00 1326.00 154.00\" xmlns=\"http://www.w3.org/2000/svg\" xmlns:xlink=\"http://www.w3.org/1999/xlink\">\n",
       "<g id=\"graph0\" class=\"graph\" transform=\"scale(1 1) rotate(0) translate(4 150)\">\n",
       "<title>%3</title>\n",
       "<polygon fill=\"white\" stroke=\"transparent\" points=\"-4,4 -4,-150 1322,-150 1322,4 -4,4\"/>\n",
       "<!-- 126475744966256 -->\n",
       "<g id=\"node1\" class=\"node\">\n",
       "<title>126475744966256</title>\n",
       "<polygon fill=\"none\" stroke=\"black\" points=\"368,-27.5 368,-63.5 600,-63.5 600,-27.5 368,-27.5\"/>\n",
       "<text text-anchor=\"middle\" x=\"378.5\" y=\"-41.8\" font-family=\"Times,serif\" font-size=\"14.00\"> </text>\n",
       "<polyline fill=\"none\" stroke=\"black\" points=\"389,-27.5 389,-63.5 \"/>\n",
       "<text text-anchor=\"middle\" x=\"442.5\" y=\"-41.8\" font-family=\"Times,serif\" font-size=\"14.00\">data &#45;6.2624</text>\n",
       "<polyline fill=\"none\" stroke=\"black\" points=\"496,-27.5 496,-63.5 \"/>\n",
       "<text text-anchor=\"middle\" x=\"548\" y=\"-41.8\" font-family=\"Times,serif\" font-size=\"14.00\">grad 0.0000</text>\n",
       "</g>\n",
       "<!-- 126475744961792+ -->\n",
       "<g id=\"node7\" class=\"node\">\n",
       "<title>126475744961792+</title>\n",
       "<ellipse fill=\"none\" stroke=\"black\" cx=\"664\" cy=\"-72.5\" rx=\"27\" ry=\"18\"/>\n",
       "<text text-anchor=\"middle\" x=\"664\" y=\"-68.8\" font-family=\"Times,serif\" font-size=\"14.00\">+</text>\n",
       "</g>\n",
       "<!-- 126475744966256&#45;&gt;126475744961792+ -->\n",
       "<g id=\"edge6\" class=\"edge\">\n",
       "<title>126475744966256&#45;&gt;126475744961792+</title>\n",
       "<path fill=\"none\" stroke=\"black\" d=\"M600.24,-62.98C610.02,-64.46 619.33,-65.88 627.64,-67.14\"/>\n",
       "<polygon fill=\"black\" stroke=\"black\" points=\"627.19,-70.61 637.6,-68.65 628.24,-63.69 627.19,-70.61\"/>\n",
       "</g>\n",
       "<!-- 126475744966256* -->\n",
       "<g id=\"node2\" class=\"node\">\n",
       "<title>126475744966256*</title>\n",
       "<ellipse fill=\"none\" stroke=\"black\" cx=\"304\" cy=\"-45.5\" rx=\"27\" ry=\"18\"/>\n",
       "<text text-anchor=\"middle\" x=\"304\" y=\"-41.8\" font-family=\"Times,serif\" font-size=\"14.00\">*</text>\n",
       "</g>\n",
       "<!-- 126475744966256*&#45;&gt;126475744966256 -->\n",
       "<g id=\"edge1\" class=\"edge\">\n",
       "<title>126475744966256*&#45;&gt;126475744966256</title>\n",
       "<path fill=\"none\" stroke=\"black\" d=\"M331.26,-45.5C338.94,-45.5 347.89,-45.5 357.53,-45.5\"/>\n",
       "<polygon fill=\"black\" stroke=\"black\" points=\"357.8,-49 367.8,-45.5 357.8,-42 357.8,-49\"/>\n",
       "</g>\n",
       "<!-- 126475744965296 -->\n",
       "<g id=\"node3\" class=\"node\">\n",
       "<title>126475744965296</title>\n",
       "<polygon fill=\"none\" stroke=\"black\" points=\"0,-55.5 0,-91.5 241,-91.5 241,-55.5 0,-55.5\"/>\n",
       "<text text-anchor=\"middle\" x=\"13\" y=\"-69.8\" font-family=\"Times,serif\" font-size=\"14.00\">b</text>\n",
       "<polyline fill=\"none\" stroke=\"black\" points=\"26,-55.5 26,-91.5 \"/>\n",
       "<text text-anchor=\"middle\" x=\"79.5\" y=\"-69.8\" font-family=\"Times,serif\" font-size=\"14.00\">data &#45;3.0400</text>\n",
       "<polyline fill=\"none\" stroke=\"black\" points=\"133,-55.5 133,-91.5 \"/>\n",
       "<text text-anchor=\"middle\" x=\"187\" y=\"-69.8\" font-family=\"Times,serif\" font-size=\"14.00\">grad &#45;4.0000</text>\n",
       "</g>\n",
       "<!-- 126475744965296&#45;&gt;126475744966256* -->\n",
       "<g id=\"edge7\" class=\"edge\">\n",
       "<title>126475744965296&#45;&gt;126475744966256*</title>\n",
       "<path fill=\"none\" stroke=\"black\" d=\"M238.24,-55.49C248.61,-53.89 258.49,-52.37 267.27,-51.01\"/>\n",
       "<polygon fill=\"black\" stroke=\"black\" points=\"268.03,-54.44 277.38,-49.45 266.97,-47.52 268.03,-54.44\"/>\n",
       "</g>\n",
       "<!-- 126475744967888 -->\n",
       "<g id=\"node4\" class=\"node\">\n",
       "<title>126475744967888</title>\n",
       "<polygon fill=\"none\" stroke=\"black\" points=\"727,-109.5 727,-145.5 960,-145.5 960,-109.5 727,-109.5\"/>\n",
       "<text text-anchor=\"middle\" x=\"738\" y=\"-123.8\" font-family=\"Times,serif\" font-size=\"14.00\">f</text>\n",
       "<polyline fill=\"none\" stroke=\"black\" points=\"749,-109.5 749,-145.5 \"/>\n",
       "<text text-anchor=\"middle\" x=\"802.5\" y=\"-123.8\" font-family=\"Times,serif\" font-size=\"14.00\">data &#45;1.9600</text>\n",
       "<polyline fill=\"none\" stroke=\"black\" points=\"856,-109.5 856,-145.5 \"/>\n",
       "<text text-anchor=\"middle\" x=\"908\" y=\"-123.8\" font-family=\"Times,serif\" font-size=\"14.00\">grad 4.0000</text>\n",
       "</g>\n",
       "<!-- 126475744960784* -->\n",
       "<g id=\"node9\" class=\"node\">\n",
       "<title>126475744960784*</title>\n",
       "<ellipse fill=\"none\" stroke=\"black\" cx=\"1023\" cy=\"-99.5\" rx=\"27\" ry=\"18\"/>\n",
       "<text text-anchor=\"middle\" x=\"1023\" y=\"-95.8\" font-family=\"Times,serif\" font-size=\"14.00\">*</text>\n",
       "</g>\n",
       "<!-- 126475744967888&#45;&gt;126475744960784* -->\n",
       "<g id=\"edge5\" class=\"edge\">\n",
       "<title>126475744967888&#45;&gt;126475744960784*</title>\n",
       "<path fill=\"none\" stroke=\"black\" d=\"M958.67,-109.49C968.61,-107.92 978.08,-106.43 986.53,-105.1\"/>\n",
       "<polygon fill=\"black\" stroke=\"black\" points=\"987.31,-108.52 996.64,-103.5 986.22,-101.6 987.31,-108.52\"/>\n",
       "</g>\n",
       "<!-- 126475744956128 -->\n",
       "<g id=\"node5\" class=\"node\">\n",
       "<title>126475744956128</title>\n",
       "<polygon fill=\"none\" stroke=\"black\" points=\"367,-82.5 367,-118.5 601,-118.5 601,-82.5 367,-82.5\"/>\n",
       "<text text-anchor=\"middle\" x=\"379\" y=\"-96.8\" font-family=\"Times,serif\" font-size=\"14.00\">c</text>\n",
       "<polyline fill=\"none\" stroke=\"black\" points=\"391,-82.5 391,-118.5 \"/>\n",
       "<text text-anchor=\"middle\" x=\"442\" y=\"-96.8\" font-family=\"Times,serif\" font-size=\"14.00\">data 9.9800</text>\n",
       "<polyline fill=\"none\" stroke=\"black\" points=\"493,-82.5 493,-118.5 \"/>\n",
       "<text text-anchor=\"middle\" x=\"547\" y=\"-96.8\" font-family=\"Times,serif\" font-size=\"14.00\">grad &#45;2.0000</text>\n",
       "</g>\n",
       "<!-- 126475744956128&#45;&gt;126475744961792+ -->\n",
       "<g id=\"edge9\" class=\"edge\">\n",
       "<title>126475744956128&#45;&gt;126475744961792+</title>\n",
       "<path fill=\"none\" stroke=\"black\" d=\"M599.49,-82.49C609.46,-80.92 618.96,-79.43 627.43,-78.1\"/>\n",
       "<polygon fill=\"black\" stroke=\"black\" points=\"628.24,-81.51 637.57,-76.5 627.15,-74.6 628.24,-81.51\"/>\n",
       "</g>\n",
       "<!-- 126475744961792 -->\n",
       "<g id=\"node6\" class=\"node\">\n",
       "<title>126475744961792</title>\n",
       "<polygon fill=\"none\" stroke=\"black\" points=\"730,-54.5 730,-90.5 957,-90.5 957,-54.5 730,-54.5\"/>\n",
       "<text text-anchor=\"middle\" x=\"740.5\" y=\"-68.8\" font-family=\"Times,serif\" font-size=\"14.00\"> </text>\n",
       "<polyline fill=\"none\" stroke=\"black\" points=\"751,-54.5 751,-90.5 \"/>\n",
       "<text text-anchor=\"middle\" x=\"802\" y=\"-68.8\" font-family=\"Times,serif\" font-size=\"14.00\">data 3.7176</text>\n",
       "<polyline fill=\"none\" stroke=\"black\" points=\"853,-54.5 853,-90.5 \"/>\n",
       "<text text-anchor=\"middle\" x=\"905\" y=\"-68.8\" font-family=\"Times,serif\" font-size=\"14.00\">grad 0.0000</text>\n",
       "</g>\n",
       "<!-- 126475744961792&#45;&gt;126475744960784* -->\n",
       "<g id=\"edge4\" class=\"edge\">\n",
       "<title>126475744961792&#45;&gt;126475744960784*</title>\n",
       "<path fill=\"none\" stroke=\"black\" d=\"M957.16,-89.64C967.71,-91.24 977.78,-92.77 986.69,-94.13\"/>\n",
       "<polygon fill=\"black\" stroke=\"black\" points=\"986.18,-97.59 996.59,-95.64 987.23,-90.67 986.18,-97.59\"/>\n",
       "</g>\n",
       "<!-- 126475744961792+&#45;&gt;126475744961792 -->\n",
       "<g id=\"edge2\" class=\"edge\">\n",
       "<title>126475744961792+&#45;&gt;126475744961792</title>\n",
       "<path fill=\"none\" stroke=\"black\" d=\"M691.19,-72.5C699.45,-72.5 709.18,-72.5 719.65,-72.5\"/>\n",
       "<polygon fill=\"black\" stroke=\"black\" points=\"719.9,-76 729.9,-72.5 719.9,-69 719.9,-76\"/>\n",
       "</g>\n",
       "<!-- 126475744960784 -->\n",
       "<g id=\"node8\" class=\"node\">\n",
       "<title>126475744960784</title>\n",
       "<polygon fill=\"none\" stroke=\"black\" points=\"1086,-81.5 1086,-117.5 1318,-117.5 1318,-81.5 1086,-81.5\"/>\n",
       "<text text-anchor=\"middle\" x=\"1096.5\" y=\"-95.8\" font-family=\"Times,serif\" font-size=\"14.00\"> </text>\n",
       "<polyline fill=\"none\" stroke=\"black\" points=\"1107,-81.5 1107,-117.5 \"/>\n",
       "<text text-anchor=\"middle\" x=\"1160.5\" y=\"-95.8\" font-family=\"Times,serif\" font-size=\"14.00\">data &#45;7.2865</text>\n",
       "<polyline fill=\"none\" stroke=\"black\" points=\"1214,-81.5 1214,-117.5 \"/>\n",
       "<text text-anchor=\"middle\" x=\"1266\" y=\"-95.8\" font-family=\"Times,serif\" font-size=\"14.00\">grad 0.0000</text>\n",
       "</g>\n",
       "<!-- 126475744960784*&#45;&gt;126475744960784 -->\n",
       "<g id=\"edge3\" class=\"edge\">\n",
       "<title>126475744960784*&#45;&gt;126475744960784</title>\n",
       "<path fill=\"none\" stroke=\"black\" d=\"M1050.12,-99.5C1057.53,-99.5 1066.14,-99.5 1075.4,-99.5\"/>\n",
       "<polygon fill=\"black\" stroke=\"black\" points=\"1075.69,-103 1085.69,-99.5 1075.69,-96 1075.69,-103\"/>\n",
       "</g>\n",
       "<!-- 126475744967648 -->\n",
       "<g id=\"node10\" class=\"node\">\n",
       "<title>126475744967648</title>\n",
       "<polygon fill=\"none\" stroke=\"black\" points=\"5,-0.5 5,-36.5 236,-36.5 236,-0.5 5,-0.5\"/>\n",
       "<text text-anchor=\"middle\" x=\"17.5\" y=\"-14.8\" font-family=\"Times,serif\" font-size=\"14.00\">a</text>\n",
       "<polyline fill=\"none\" stroke=\"black\" points=\"30,-0.5 30,-36.5 \"/>\n",
       "<text text-anchor=\"middle\" x=\"81\" y=\"-14.8\" font-family=\"Times,serif\" font-size=\"14.00\">data 2.0600</text>\n",
       "<polyline fill=\"none\" stroke=\"black\" points=\"132,-0.5 132,-36.5 \"/>\n",
       "<text text-anchor=\"middle\" x=\"184\" y=\"-14.8\" font-family=\"Times,serif\" font-size=\"14.00\">grad 6.0000</text>\n",
       "</g>\n",
       "<!-- 126475744967648&#45;&gt;126475744966256* -->\n",
       "<g id=\"edge8\" class=\"edge\">\n",
       "<title>126475744967648&#45;&gt;126475744966256*</title>\n",
       "<path fill=\"none\" stroke=\"black\" d=\"M236.19,-35.56C247.37,-37.22 258.02,-38.81 267.41,-40.21\"/>\n",
       "<polygon fill=\"black\" stroke=\"black\" points=\"267.02,-43.69 277.43,-41.7 268.05,-36.76 267.02,-43.69\"/>\n",
       "</g>\n",
       "</g>\n",
       "</svg>\n"
      ],
      "text/plain": [
       "<graphviz.graphs.Digraph at 0x73076dd9dcc0>"
      ]
     },
     "execution_count": 118,
     "metadata": {},
     "output_type": "execute_result"
    }
   ],
   "source": [
    "draw_dot(L)"
   ]
  },
  {
   "cell_type": "code",
   "execution_count": 120,
   "metadata": {},
   "outputs": [
    {
     "data": {
      "image/png": "[encoded data removed]",
      "text/plain": [
       "<Figure size 432x288 with 1 Axes>"
      ]
     },
     "metadata": {
      "needs_background": "light"
     },
     "output_type": "display_data"
    }
   ],
   "source": [
    "plt.plot(np.arange(-5, 5, 0.2), np.tanh(np.arange(-5, 5, 0.2)))\n",
    "plt.grid()"
   ]
  },
  {
   "cell_type": "markdown",
   "metadata": {},
   "source": [
    "## Auto back-prop"
   ]
  },
  {
   "cell_type": "code",
   "execution_count": 121,
   "metadata": {},
   "outputs": [],
   "source": [
    "# Let's make a neuron\n",
    "\n",
    "# inputs x1, x2\n",
    "x1 = Value(2.0, label='x1')\n",
    "x2 = Value(0.0, label='x2')\n",
    "\n",
    "# weights w1, w2\n",
    "w1 = Value(-3.0, label='w1')\n",
    "w2 = Value(1.0, label='w2')\n",
    "\n",
    "# bias\n",
    "b = Value(6.8813735870195432, label='b')\n",
    "\n",
    "# x1*w1 + x2*w2 + b\n",
    "x1w1 = x1*w1; x1w1.label = 'x1w1'\n",
    "x2w2 = x2*w2; x2w2.label = 'x2w2'\n",
    "x1w1x2w2 = x1w1 + x2w2; x1w1x2w2.label = 'x1w1 * x2w2'\n",
    "\n",
    "n = x1w1x2w2 + b; n.label = 'n'\n",
    "o = n.tanh(); o.label = 'o'"
   ]
  },
  {
   "cell_type": "code",
   "execution_count": 128,
   "metadata": {},
   "outputs": [
    {
     "data": {
      "image/svg+xml": [
       "<?xml version=\"1.0\" encoding=\"UTF-8\" standalone=\"no\"?>\n",
       "<!DOCTYPE svg PUBLIC \"-//W3C//DTD SVG 1.1//EN\"\n",
       " \"http://www.w3.org/Graphics/SVG/1.1/DTD/svg11.dtd\">\n",
       "<!-- Generated by graphviz version 2.43.0 (0)\n",
       " -->\n",
       "<!-- Title: %3 Pages: 1 -->\n",
       "<svg width=\"1820pt\" height=\"210pt\"\n",
       " viewBox=\"0.00 0.00 1819.69 210.00\" xmlns=\"http://www.w3.org/2000/svg\" xmlns:xlink=\"http://www.w3.org/1999/xlink\">\n",
       "<g id=\"graph0\" class=\"graph\" transform=\"scale(1 1) rotate(0) translate(4 206)\">\n",
       "<title>%3</title>\n",
       "<polygon fill=\"white\" stroke=\"transparent\" points=\"-4,4 -4,-206 1815.69,-206 1815.69,4 -4,4\"/>\n",
       "<!-- 126475755134480 -->\n",
       "<g id=\"node1\" class=\"node\">\n",
       "<title>126475755134480</title>\n",
       "<polygon fill=\"none\" stroke=\"black\" points=\"2.5,-165.5 2.5,-201.5 246.5,-201.5 246.5,-165.5 2.5,-165.5\"/>\n",
       "<text text-anchor=\"middle\" x=\"19.5\" y=\"-179.8\" font-family=\"Times,serif\" font-size=\"14.00\">x1</text>\n",
       "<polyline fill=\"none\" stroke=\"black\" points=\"36.5,-165.5 36.5,-201.5 \"/>\n",
       "<text text-anchor=\"middle\" x=\"87.5\" y=\"-179.8\" font-family=\"Times,serif\" font-size=\"14.00\">data 2.0000</text>\n",
       "<polyline fill=\"none\" stroke=\"black\" points=\"138.5,-165.5 138.5,-201.5 \"/>\n",
       "<text text-anchor=\"middle\" x=\"192.5\" y=\"-179.8\" font-family=\"Times,serif\" font-size=\"14.00\">grad &#45;1.5000</text>\n",
       "</g>\n",
       "<!-- 126475745080224* -->\n",
       "<g id=\"node15\" class=\"node\">\n",
       "<title>126475745080224*</title>\n",
       "<ellipse fill=\"none\" stroke=\"black\" cx=\"312\" cy=\"-128.5\" rx=\"27\" ry=\"18\"/>\n",
       "<text text-anchor=\"middle\" x=\"312\" y=\"-124.8\" font-family=\"Times,serif\" font-size=\"14.00\">*</text>\n",
       "</g>\n",
       "<!-- 126475755134480&#45;&gt;126475745080224* -->\n",
       "<g id=\"edge14\" class=\"edge\">\n",
       "<title>126475755134480&#45;&gt;126475745080224*</title>\n",
       "<path fill=\"none\" stroke=\"black\" d=\"M218.13,-165.46C228.63,-162.77 239.1,-159.78 249,-156.5 259.71,-152.96 271.05,-148.16 281.07,-143.54\"/>\n",
       "<polygon fill=\"black\" stroke=\"black\" points=\"282.67,-146.66 290.2,-139.21 279.67,-140.33 282.67,-146.66\"/>\n",
       "</g>\n",
       "<!-- 126475755133472 -->\n",
       "<g id=\"node2\" class=\"node\">\n",
       "<title>126475755133472</title>\n",
       "<polygon fill=\"none\" stroke=\"black\" points=\"4.5,-55.5 4.5,-91.5 244.5,-91.5 244.5,-55.5 4.5,-55.5\"/>\n",
       "<text text-anchor=\"middle\" x=\"21.5\" y=\"-69.8\" font-family=\"Times,serif\" font-size=\"14.00\">x2</text>\n",
       "<polyline fill=\"none\" stroke=\"black\" points=\"38.5,-55.5 38.5,-91.5 \"/>\n",
       "<text text-anchor=\"middle\" x=\"89.5\" y=\"-69.8\" font-family=\"Times,serif\" font-size=\"14.00\">data 0.0000</text>\n",
       "<polyline fill=\"none\" stroke=\"black\" points=\"140.5,-55.5 140.5,-91.5 \"/>\n",
       "<text text-anchor=\"middle\" x=\"192.5\" y=\"-69.8\" font-family=\"Times,serif\" font-size=\"14.00\">grad 0.5000</text>\n",
       "</g>\n",
       "<!-- 126475756244032* -->\n",
       "<g id=\"node4\" class=\"node\">\n",
       "<title>126475756244032*</title>\n",
       "<ellipse fill=\"none\" stroke=\"black\" cx=\"312\" cy=\"-73.5\" rx=\"27\" ry=\"18\"/>\n",
       "<text text-anchor=\"middle\" x=\"312\" y=\"-69.8\" font-family=\"Times,serif\" font-size=\"14.00\">*</text>\n",
       "</g>\n",
       "<!-- 126475755133472&#45;&gt;126475756244032* -->\n",
       "<g id=\"edge12\" class=\"edge\">\n",
       "<title>126475755133472&#45;&gt;126475756244032*</title>\n",
       "<path fill=\"none\" stroke=\"black\" d=\"M244.55,-73.5C255.31,-73.5 265.54,-73.5 274.62,-73.5\"/>\n",
       "<polygon fill=\"black\" stroke=\"black\" points=\"274.7,-77 284.7,-73.5 274.7,-70 274.7,-77\"/>\n",
       "</g>\n",
       "<!-- 126475756244032 -->\n",
       "<g id=\"node3\" class=\"node\">\n",
       "<title>126475756244032</title>\n",
       "<polygon fill=\"none\" stroke=\"black\" points=\"377.5,-55.5 377.5,-91.5 638.5,-91.5 638.5,-55.5 377.5,-55.5\"/>\n",
       "<text text-anchor=\"middle\" x=\"405\" y=\"-69.8\" font-family=\"Times,serif\" font-size=\"14.00\">x2w2</text>\n",
       "<polyline fill=\"none\" stroke=\"black\" points=\"432.5,-55.5 432.5,-91.5 \"/>\n",
       "<text text-anchor=\"middle\" x=\"483.5\" y=\"-69.8\" font-family=\"Times,serif\" font-size=\"14.00\">data 0.0000</text>\n",
       "<polyline fill=\"none\" stroke=\"black\" points=\"534.5,-55.5 534.5,-91.5 \"/>\n",
       "<text text-anchor=\"middle\" x=\"586.5\" y=\"-69.8\" font-family=\"Times,serif\" font-size=\"14.00\">grad 0.5000</text>\n",
       "</g>\n",
       "<!-- 126475756244800+ -->\n",
       "<g id=\"node11\" class=\"node\">\n",
       "<title>126475756244800+</title>\n",
       "<ellipse fill=\"none\" stroke=\"black\" cx=\"704\" cy=\"-100.5\" rx=\"27\" ry=\"18\"/>\n",
       "<text text-anchor=\"middle\" x=\"704\" y=\"-96.8\" font-family=\"Times,serif\" font-size=\"14.00\">+</text>\n",
       "</g>\n",
       "<!-- 126475756244032&#45;&gt;126475756244800+ -->\n",
       "<g id=\"edge8\" class=\"edge\">\n",
       "<title>126475756244032&#45;&gt;126475756244800+</title>\n",
       "<path fill=\"none\" stroke=\"black\" d=\"M638.4,-91.51C648.78,-92.95 658.6,-94.32 667.3,-95.53\"/>\n",
       "<polygon fill=\"black\" stroke=\"black\" points=\"666.94,-99.01 677.32,-96.93 667.9,-92.08 666.94,-99.01\"/>\n",
       "</g>\n",
       "<!-- 126475756244032*&#45;&gt;126475756244032 -->\n",
       "<g id=\"edge1\" class=\"edge\">\n",
       "<title>126475756244032*&#45;&gt;126475756244032</title>\n",
       "<path fill=\"none\" stroke=\"black\" d=\"M339.16,-73.5C347.24,-73.5 356.75,-73.5 367.07,-73.5\"/>\n",
       "<polygon fill=\"black\" stroke=\"black\" points=\"367.2,-77 377.2,-73.5 367.2,-70 367.2,-77\"/>\n",
       "</g>\n",
       "<!-- 126475756249744 -->\n",
       "<g id=\"node5\" class=\"node\">\n",
       "<title>126475756249744</title>\n",
       "<polygon fill=\"none\" stroke=\"black\" points=\"1213,-54.5 1213,-90.5 1445,-90.5 1445,-54.5 1213,-54.5\"/>\n",
       "<text text-anchor=\"middle\" x=\"1226\" y=\"-68.8\" font-family=\"Times,serif\" font-size=\"14.00\">n</text>\n",
       "<polyline fill=\"none\" stroke=\"black\" points=\"1239,-54.5 1239,-90.5 \"/>\n",
       "<text text-anchor=\"middle\" x=\"1290\" y=\"-68.8\" font-family=\"Times,serif\" font-size=\"14.00\">data 0.8814</text>\n",
       "<polyline fill=\"none\" stroke=\"black\" points=\"1341,-54.5 1341,-90.5 \"/>\n",
       "<text text-anchor=\"middle\" x=\"1393\" y=\"-68.8\" font-family=\"Times,serif\" font-size=\"14.00\">grad 0.5000</text>\n",
       "</g>\n",
       "<!-- 126475756248832tanh -->\n",
       "<g id=\"node9\" class=\"node\">\n",
       "<title>126475756248832tanh</title>\n",
       "<ellipse fill=\"none\" stroke=\"black\" cx=\"1512.85\" cy=\"-72.5\" rx=\"31.7\" ry=\"18\"/>\n",
       "<text text-anchor=\"middle\" x=\"1512.85\" y=\"-68.8\" font-family=\"Times,serif\" font-size=\"14.00\">tanh</text>\n",
       "</g>\n",
       "<!-- 126475756249744&#45;&gt;126475756248832tanh -->\n",
       "<g id=\"edge10\" class=\"edge\">\n",
       "<title>126475756249744&#45;&gt;126475756248832tanh</title>\n",
       "<path fill=\"none\" stroke=\"black\" d=\"M1445.17,-72.5C1454.08,-72.5 1462.66,-72.5 1470.53,-72.5\"/>\n",
       "<polygon fill=\"black\" stroke=\"black\" points=\"1470.78,-76 1480.78,-72.5 1470.78,-69 1470.78,-76\"/>\n",
       "</g>\n",
       "<!-- 126475756249744+ -->\n",
       "<g id=\"node6\" class=\"node\">\n",
       "<title>126475756249744+</title>\n",
       "<ellipse fill=\"none\" stroke=\"black\" cx=\"1150\" cy=\"-72.5\" rx=\"27\" ry=\"18\"/>\n",
       "<text text-anchor=\"middle\" x=\"1150\" y=\"-68.8\" font-family=\"Times,serif\" font-size=\"14.00\">+</text>\n",
       "</g>\n",
       "<!-- 126475756249744+&#45;&gt;126475756249744 -->\n",
       "<g id=\"edge2\" class=\"edge\">\n",
       "<title>126475756249744+&#45;&gt;126475756249744</title>\n",
       "<path fill=\"none\" stroke=\"black\" d=\"M1177.12,-72.5C1184.53,-72.5 1193.14,-72.5 1202.4,-72.5\"/>\n",
       "<polygon fill=\"black\" stroke=\"black\" points=\"1202.69,-76 1212.69,-72.5 1202.69,-69 1202.69,-76\"/>\n",
       "</g>\n",
       "<!-- 126475755134096 -->\n",
       "<g id=\"node7\" class=\"node\">\n",
       "<title>126475755134096</title>\n",
       "<polygon fill=\"none\" stroke=\"black\" points=\"2.5,-0.5 2.5,-36.5 246.5,-36.5 246.5,-0.5 2.5,-0.5\"/>\n",
       "<text text-anchor=\"middle\" x=\"21.5\" y=\"-14.8\" font-family=\"Times,serif\" font-size=\"14.00\">w2</text>\n",
       "<polyline fill=\"none\" stroke=\"black\" points=\"40.5,-0.5 40.5,-36.5 \"/>\n",
       "<text text-anchor=\"middle\" x=\"91.5\" y=\"-14.8\" font-family=\"Times,serif\" font-size=\"14.00\">data 1.0000</text>\n",
       "<polyline fill=\"none\" stroke=\"black\" points=\"142.5,-0.5 142.5,-36.5 \"/>\n",
       "<text text-anchor=\"middle\" x=\"194.5\" y=\"-14.8\" font-family=\"Times,serif\" font-size=\"14.00\">grad 0.0000</text>\n",
       "</g>\n",
       "<!-- 126475755134096&#45;&gt;126475756244032* -->\n",
       "<g id=\"edge7\" class=\"edge\">\n",
       "<title>126475755134096&#45;&gt;126475756244032*</title>\n",
       "<path fill=\"none\" stroke=\"black\" d=\"M214.42,-36.55C226.15,-39.54 237.93,-42.87 249,-46.5 259.46,-49.93 270.57,-54.47 280.46,-58.84\"/>\n",
       "<polygon fill=\"black\" stroke=\"black\" points=\"279.31,-62.17 289.87,-63.12 282.21,-55.79 279.31,-62.17\"/>\n",
       "</g>\n",
       "<!-- 126475756248832 -->\n",
       "<g id=\"node8\" class=\"node\">\n",
       "<title>126475756248832</title>\n",
       "<polygon fill=\"none\" stroke=\"black\" points=\"1580.69,-54.5 1580.69,-90.5 1811.69,-90.5 1811.69,-54.5 1580.69,-54.5\"/>\n",
       "<text text-anchor=\"middle\" x=\"1593.19\" y=\"-68.8\" font-family=\"Times,serif\" font-size=\"14.00\">o</text>\n",
       "<polyline fill=\"none\" stroke=\"black\" points=\"1605.69,-54.5 1605.69,-90.5 \"/>\n",
       "<text text-anchor=\"middle\" x=\"1656.69\" y=\"-68.8\" font-family=\"Times,serif\" font-size=\"14.00\">data 0.7071</text>\n",
       "<polyline fill=\"none\" stroke=\"black\" points=\"1707.69,-54.5 1707.69,-90.5 \"/>\n",
       "<text text-anchor=\"middle\" x=\"1759.69\" y=\"-68.8\" font-family=\"Times,serif\" font-size=\"14.00\">grad 1.0000</text>\n",
       "</g>\n",
       "<!-- 126475756248832tanh&#45;&gt;126475756248832 -->\n",
       "<g id=\"edge3\" class=\"edge\">\n",
       "<title>126475756248832tanh&#45;&gt;126475756248832</title>\n",
       "<path fill=\"none\" stroke=\"black\" d=\"M1545.02,-72.5C1552.61,-72.5 1561.19,-72.5 1570.31,-72.5\"/>\n",
       "<polygon fill=\"black\" stroke=\"black\" points=\"1570.4,-76 1580.4,-72.5 1570.4,-69 1570.4,-76\"/>\n",
       "</g>\n",
       "<!-- 126475756244800 -->\n",
       "<g id=\"node10\" class=\"node\">\n",
       "<title>126475756244800</title>\n",
       "<polygon fill=\"none\" stroke=\"black\" points=\"767,-82.5 767,-118.5 1087,-118.5 1087,-82.5 767,-82.5\"/>\n",
       "<text text-anchor=\"middle\" x=\"821.5\" y=\"-96.8\" font-family=\"Times,serif\" font-size=\"14.00\">x1w1 * x2w2</text>\n",
       "<polyline fill=\"none\" stroke=\"black\" points=\"876,-82.5 876,-118.5 \"/>\n",
       "<text text-anchor=\"middle\" x=\"929.5\" y=\"-96.8\" font-family=\"Times,serif\" font-size=\"14.00\">data &#45;6.0000</text>\n",
       "<polyline fill=\"none\" stroke=\"black\" points=\"983,-82.5 983,-118.5 \"/>\n",
       "<text text-anchor=\"middle\" x=\"1035\" y=\"-96.8\" font-family=\"Times,serif\" font-size=\"14.00\">grad 0.5000</text>\n",
       "</g>\n",
       "<!-- 126475756244800&#45;&gt;126475756249744+ -->\n",
       "<g id=\"edge6\" class=\"edge\">\n",
       "<title>126475756244800&#45;&gt;126475756249744+</title>\n",
       "<path fill=\"none\" stroke=\"black\" d=\"M1070.15,-82.49C1085.83,-80.5 1100.59,-78.63 1113,-77.06\"/>\n",
       "<polygon fill=\"black\" stroke=\"black\" points=\"1113.78,-80.49 1123.26,-75.76 1112.9,-73.55 1113.78,-80.49\"/>\n",
       "</g>\n",
       "<!-- 126475756244800+&#45;&gt;126475756244800 -->\n",
       "<g id=\"edge4\" class=\"edge\">\n",
       "<title>126475756244800+&#45;&gt;126475756244800</title>\n",
       "<path fill=\"none\" stroke=\"black\" d=\"M731.22,-100.5C738.6,-100.5 747.22,-100.5 756.65,-100.5\"/>\n",
       "<polygon fill=\"black\" stroke=\"black\" points=\"756.74,-104 766.74,-100.5 756.74,-97 756.74,-104\"/>\n",
       "</g>\n",
       "<!-- 126475755134336 -->\n",
       "<g id=\"node12\" class=\"node\">\n",
       "<title>126475755134336</title>\n",
       "<polygon fill=\"none\" stroke=\"black\" points=\"0,-110.5 0,-146.5 249,-146.5 249,-110.5 0,-110.5\"/>\n",
       "<text text-anchor=\"middle\" x=\"19\" y=\"-124.8\" font-family=\"Times,serif\" font-size=\"14.00\">w1</text>\n",
       "<polyline fill=\"none\" stroke=\"black\" points=\"38,-110.5 38,-146.5 \"/>\n",
       "<text text-anchor=\"middle\" x=\"91.5\" y=\"-124.8\" font-family=\"Times,serif\" font-size=\"14.00\">data &#45;3.0000</text>\n",
       "<polyline fill=\"none\" stroke=\"black\" points=\"145,-110.5 145,-146.5 \"/>\n",
       "<text text-anchor=\"middle\" x=\"197\" y=\"-124.8\" font-family=\"Times,serif\" font-size=\"14.00\">grad 1.0000</text>\n",
       "</g>\n",
       "<!-- 126475755134336&#45;&gt;126475745080224* -->\n",
       "<g id=\"edge11\" class=\"edge\">\n",
       "<title>126475755134336&#45;&gt;126475745080224*</title>\n",
       "<path fill=\"none\" stroke=\"black\" d=\"M249.23,-128.5C258.37,-128.5 267.05,-128.5 274.87,-128.5\"/>\n",
       "<polygon fill=\"black\" stroke=\"black\" points=\"274.95,-132 284.95,-128.5 274.95,-125 274.95,-132\"/>\n",
       "</g>\n",
       "<!-- 126475755132320 -->\n",
       "<g id=\"node13\" class=\"node\">\n",
       "<title>126475755132320</title>\n",
       "<polygon fill=\"none\" stroke=\"black\" points=\"811,-27.5 811,-63.5 1043,-63.5 1043,-27.5 811,-27.5\"/>\n",
       "<text text-anchor=\"middle\" x=\"824\" y=\"-41.8\" font-family=\"Times,serif\" font-size=\"14.00\">b</text>\n",
       "<polyline fill=\"none\" stroke=\"black\" points=\"837,-27.5 837,-63.5 \"/>\n",
       "<text text-anchor=\"middle\" x=\"888\" y=\"-41.8\" font-family=\"Times,serif\" font-size=\"14.00\">data 6.8814</text>\n",
       "<polyline fill=\"none\" stroke=\"black\" points=\"939,-27.5 939,-63.5 \"/>\n",
       "<text text-anchor=\"middle\" x=\"991\" y=\"-41.8\" font-family=\"Times,serif\" font-size=\"14.00\">grad 0.5000</text>\n",
       "</g>\n",
       "<!-- 126475755132320&#45;&gt;126475756249744+ -->\n",
       "<g id=\"edge9\" class=\"edge\">\n",
       "<title>126475755132320&#45;&gt;126475756249744+</title>\n",
       "<path fill=\"none\" stroke=\"black\" d=\"M1043.03,-59.55C1068.52,-62.67 1093.68,-65.74 1113.09,-68.11\"/>\n",
       "<polygon fill=\"black\" stroke=\"black\" points=\"1112.89,-71.61 1123.24,-69.35 1113.74,-64.67 1112.89,-71.61\"/>\n",
       "</g>\n",
       "<!-- 126475745080224 -->\n",
       "<g id=\"node14\" class=\"node\">\n",
       "<title>126475745080224</title>\n",
       "<polygon fill=\"none\" stroke=\"black\" points=\"375,-110.5 375,-146.5 641,-146.5 641,-110.5 375,-110.5\"/>\n",
       "<text text-anchor=\"middle\" x=\"402.5\" y=\"-124.8\" font-family=\"Times,serif\" font-size=\"14.00\">x1w1</text>\n",
       "<polyline fill=\"none\" stroke=\"black\" points=\"430,-110.5 430,-146.5 \"/>\n",
       "<text text-anchor=\"middle\" x=\"483.5\" y=\"-124.8\" font-family=\"Times,serif\" font-size=\"14.00\">data &#45;6.0000</text>\n",
       "<polyline fill=\"none\" stroke=\"black\" points=\"537,-110.5 537,-146.5 \"/>\n",
       "<text text-anchor=\"middle\" x=\"589\" y=\"-124.8\" font-family=\"Times,serif\" font-size=\"14.00\">grad 0.5000</text>\n",
       "</g>\n",
       "<!-- 126475745080224&#45;&gt;126475756244800+ -->\n",
       "<g id=\"edge13\" class=\"edge\">\n",
       "<title>126475745080224&#45;&gt;126475756244800+</title>\n",
       "<path fill=\"none\" stroke=\"black\" d=\"M633.78,-110.49C645.77,-108.76 657.15,-107.12 667.08,-105.68\"/>\n",
       "<polygon fill=\"black\" stroke=\"black\" points=\"667.86,-109.11 677.25,-104.22 666.86,-102.18 667.86,-109.11\"/>\n",
       "</g>\n",
       "<!-- 126475745080224*&#45;&gt;126475745080224 -->\n",
       "<g id=\"edge5\" class=\"edge\">\n",
       "<title>126475745080224*&#45;&gt;126475745080224</title>\n",
       "<path fill=\"none\" stroke=\"black\" d=\"M339.16,-128.5C346.61,-128.5 355.28,-128.5 364.68,-128.5\"/>\n",
       "<polygon fill=\"black\" stroke=\"black\" points=\"364.73,-132 374.73,-128.5 364.73,-125 364.73,-132\"/>\n",
       "</g>\n",
       "</g>\n",
       "</svg>\n"
      ],
      "text/plain": [
       "<graphviz.graphs.Digraph at 0x73076e752530>"
      ]
     },
     "execution_count": 128,
     "metadata": {},
     "output_type": "execute_result"
    }
   ],
   "source": [
    "draw_dot(o)"
   ]
  },
  {
   "cell_type": "code",
   "execution_count": 123,
   "metadata": {},
   "outputs": [],
   "source": [
    "o.backward()"
   ]
  }
 ],
 "metadata": {
  "kernelspec": {
   "display_name": "Python 3",
   "language": "python",
   "name": "python3"
  },
  "language_info": {
   "codemirror_mode": {
    "name": "ipython",
    "version": 3
   },
   "file_extension": ".py",
   "mimetype": "text/x-python",
   "name": "python",
   "nbconvert_exporter": "python",
   "pygments_lexer": "ipython3",
   "version": "3.10.12"
  }
 },
 "nbformat": 4,
 "nbformat_minor": 2
}
