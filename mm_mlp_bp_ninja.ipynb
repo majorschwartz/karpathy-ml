{
 "cells": [
  {
   "cell_type": "markdown",
   "metadata": {},
   "source": [
    "### Initiation"
   ]
  },
  {
   "cell_type": "code",
   "execution_count": 29,
   "metadata": {},
   "outputs": [],
   "source": [
    "import torch\n",
    "import torch.nn.functional as F\n",
    "import matplotlib.pyplot as plt\n",
    "%matplotlib inline"
   ]
  },
  {
   "cell_type": "code",
   "execution_count": 30,
   "metadata": {},
   "outputs": [
    {
     "data": {
      "text/plain": [
       "(32033, ['emma', 'olivia', 'ava', 'isabella', 'sophia'])"
      ]
     },
     "execution_count": 30,
     "metadata": {},
     "output_type": "execute_result"
    }
   ],
   "source": [
    "# read the words\n",
    "words = open('names.txt', 'r').read().splitlines()\n",
    "len(words), words[:5]"
   ]
  },
  {
   "cell_type": "code",
   "execution_count": 31,
   "metadata": {},
   "outputs": [
    {
     "name": "stdout",
     "output_type": "stream",
     "text": [
      "{0: '.', 1: 'a', 2: 'b', 3: 'c', 4: 'd', 5: 'e', 6: 'f', 7: 'g', 8: 'h', 9: 'i', 10: 'j', 11: 'k', 12: 'l', 13: 'm', 14: 'n', 15: 'o', 16: 'p', 17: 'q', 18: 'r', 19: 's', 20: 't', 21: 'u', 22: 'v', 23: 'w', 24: 'x', 25: 'y', 26: 'z'}\n",
      "27\n"
     ]
    }
   ],
   "source": [
    "# build the vocabulary\n",
    "chars = sorted(list(set(''.join(words))))\n",
    "s_to_i = {'.' : 0} | {s: i + 1 for i, s in enumerate(chars)}\n",
    "i_to_s = {i: s for s, i in s_to_i.items()}\n",
    "vocab_size = len(i_to_s)\n",
    "print(i_to_s)\n",
    "print(vocab_size)"
   ]
  },
  {
   "cell_type": "code",
   "execution_count": 32,
   "metadata": {},
   "outputs": [
    {
     "name": "stdout",
     "output_type": "stream",
     "text": [
      "torch.Size([182625, 3]) torch.Size([182625])\n",
      "torch.Size([22655, 3]) torch.Size([22655])\n",
      "torch.Size([22866, 3]) torch.Size([22866])\n"
     ]
    }
   ],
   "source": [
    "# build the dataset\n",
    "\n",
    "block_size = 3 # context length (how many chars to predict next)\n",
    "\n",
    "def build_dataset(words):\n",
    "\tX, Y = [], []\n",
    "\n",
    "\tfor w in words:\n",
    "\t\tcontext = [0] * block_size\n",
    "\t\tfor ch in w + '.':\n",
    "\t\t\tidx = s_to_i[ch]\n",
    "\t\t\tX.append(context)\n",
    "\t\t\tY.append(idx)\n",
    "\t\t\tcontext = context[1:] + [idx]\n",
    "\t\n",
    "\tX = torch.tensor(X)\n",
    "\tY = torch.tensor(Y)\n",
    "\tprint(X.shape, Y.shape)\n",
    "\treturn X, Y\n",
    "\n",
    "import random\n",
    "random.seed(42)\n",
    "random.shuffle(words)\n",
    "n1 = int(len(words) * 0.8)\n",
    "n2 = int(len(words) * 0.9)\n",
    "\n",
    "X_train,\tY_train\t= build_dataset(words[:n1])\t\t# 80%\n",
    "X_val,\t\tY_val\t= build_dataset(words[n1:n2])\t# 10%\n",
    "X_test,\t\tY_test\t= build_dataset(words[n2:])\t\t# 10%"
   ]
  },
  {
   "cell_type": "code",
   "execution_count": 33,
   "metadata": {},
   "outputs": [],
   "source": [
    "# util function used for comparing manual gradients to PyTorch's autograd\n",
    "def cmp(s, dt, t):\n",
    "\tex = torch.all(dt == t.grad).item()\n",
    "\tapp = torch.allclose(dt, t.grad)\n",
    "\tmaxdiff = (dt - t.grad).abs().max().item()\n",
    "\tpad = 1 if app else 10\n",
    "\tprint(f'{s:15s} | exact: {str(ex):5s} | approx: {str(app):5s} | max diff: {maxdiff:.{pad}f}')"
   ]
  },
  {
   "cell_type": "code",
   "execution_count": 34,
   "metadata": {},
   "outputs": [
    {
     "name": "stdout",
     "output_type": "stream",
     "text": [
      "4137\n"
     ]
    }
   ],
   "source": [
    "n_embd = 10 # embedding size\n",
    "n_hidden = 64 # hidden layer size\n",
    "\n",
    "g = torch.Generator().manual_seed(2147483647)\n",
    "C = torch.randn((vocab_size, n_embd),\t\t\t\tgenerator=g)\n",
    "# Layer 1\n",
    "W1 = torch.randn((n_embd * block_size, n_hidden),\tgenerator=g) * (5/3) / ((n_embd * block_size)**0.5)\n",
    "b1 = torch.randn((n_hidden,),\t\t\t\t\t\tgenerator=g) * 0.1 # for fun (useless)\n",
    "# Layer 2\n",
    "W2 = torch.randn((n_hidden, vocab_size),\t\t\tgenerator=g) * 0.1\n",
    "b2 = torch.randn((vocab_size,),\t\t\t\t\t\tgenerator=g) * 0.1\n",
    "\n",
    "# BatchNorm parameters\n",
    "bngain = torch.randn((1, n_hidden)) * 0.1 + 1.0\n",
    "bnbias = torch.randn((1, n_hidden)) * 0.1\n",
    "\n",
    "parameters = [C, W1, b1, W2, b2, bngain, bnbias]\n",
    "print(sum(p.nelement() for p in parameters)) # number of parameters in total\n",
    "for p in parameters:\n",
    "\tp.requires_grad = True"
   ]
  },
  {
   "cell_type": "code",
   "execution_count": 35,
   "metadata": {},
   "outputs": [],
   "source": [
    "batch_size = 32\n",
    "n = batch_size # a short var for convenience\n",
    "# construct minibatch\n",
    "ix = torch.randint(0, X_train.shape[0], (batch_size,), generator=g)\n",
    "Xb, Yb = X_train[ix], Y_train[ix] # batch X, Y"
   ]
  },
  {
   "cell_type": "code",
   "execution_count": 36,
   "metadata": {},
   "outputs": [
    {
     "data": {
      "text/plain": [
       "tensor(3.3273, grad_fn=<NegBackward0>)"
      ]
     },
     "execution_count": 36,
     "metadata": {},
     "output_type": "execute_result"
    }
   ],
   "source": [
    "# forward pass that's \"chunkated\" into smaller steps to backward one at a time\n",
    "\n",
    "emb = C[Xb] # embed the chars into vectors\n",
    "embcat = emb.view(emb.shape[0], -1) # concat the vectors\n",
    "\n",
    "# Linear layer 1\n",
    "hprebn = embcat @ W1 + b1 # hidden layer preactivation\n",
    "\n",
    "# BatchNorm layer\n",
    "bnmeani = 1 / n * hprebn.sum(0, keepdim=True)\n",
    "bndiff = hprebn - bnmeani\n",
    "bndiff2 = bndiff**2\n",
    "bnvar = 1 / (n - 1) * bndiff2.sum(0, keepdim=True)\n",
    "bnvar_inv = (bnvar + 1e-5)**-0.5\n",
    "bnraw = bndiff * bnvar_inv\n",
    "hpreact = bngain * bnraw + bnbias\n",
    "\n",
    "# Non-linearity\n",
    "h = torch.tanh(hpreact) # hidden layer activation\n",
    "\n",
    "# Linear layer 2\n",
    "logits = h @ W2 + b2 # output layer\n",
    "\n",
    "# cross entropy loss\n",
    "logit_maxes = logits.max(1, keepdim=True).values\n",
    "norm_logits = logits - logit_maxes\n",
    "counts = norm_logits.exp()\n",
    "counts_sum = counts.sum(1, keepdim=True)\n",
    "counts_sum_inv = counts_sum**-1\n",
    "probs = counts * counts_sum_inv\n",
    "logprobs = probs.log()\n",
    "loss = -logprobs[range(n), Yb].mean()\n",
    "\n",
    "# PyTorch backward pass\n",
    "for p in parameters:\n",
    "\tp.grad = None\n",
    "for t in [logprobs, probs, counts, counts_sum, counts_sum_inv, norm_logits, logit_maxes, logits, h, hpreact, bnraw, bnvar_inv, bnvar, bndiff2, bndiff, hprebn, bnmeani, embcat, emb]:\n",
    "\tt.retain_grad()\n",
    "loss.backward()\n",
    "loss"
   ]
  },
  {
   "cell_type": "code",
   "execution_count": 37,
   "metadata": {},
   "outputs": [
    {
     "data": {
      "text/plain": [
       "(torch.Size([32, 27]),\n",
       " tensor([-4.0869, -3.0877, -3.6153, -3.2970, -4.1304, -3.3986, -3.1446, -3.9603,\n",
       "         -3.0718, -4.2444, -3.2318, -1.6564, -2.9673, -2.9929, -2.9785, -3.1066,\n",
       "         -3.9200, -2.8471, -3.6825, -3.3317, -2.8584, -2.9320, -4.3010, -4.0060,\n",
       "         -3.5375, -2.8370, -2.9669, -3.9421, -2.6241, -3.3688, -3.2364, -3.1123],\n",
       "        grad_fn=<IndexBackward0>),\n",
       " torch.Size([32]))"
      ]
     },
     "execution_count": 37,
     "metadata": {},
     "output_type": "execute_result"
    }
   ],
   "source": [
    "logprobs.shape, logprobs[range(n), Yb], Yb.shape"
   ]
  },
  {
   "cell_type": "code",
   "execution_count": 47,
   "metadata": {},
   "outputs": [
    {
     "name": "stdout",
     "output_type": "stream",
     "text": [
      "logprobs        | exact: True  | approx: True  | max diff: 0.0\n",
      "probs           | exact: True  | approx: True  | max diff: 0.0\n",
      "counts_sum_inv  | exact: True  | approx: True  | max diff: 0.0\n",
      "counts_sum      | exact: True  | approx: True  | max diff: 0.0\n",
      "counts          | exact: True  | approx: True  | max diff: 0.0\n",
      "norm_logits     | exact: True  | approx: True  | max diff: 0.0\n",
      "logit_maxes     | exact: True  | approx: True  | max diff: 0.0\n",
      "logits          | exact: True  | approx: True  | max diff: 0.0\n",
      "h               | exact: True  | approx: True  | max diff: 0.0\n",
      "W2              | exact: True  | approx: True  | max diff: 0.0\n",
      "b2              | exact: True  | approx: True  | max diff: 0.0\n",
      "hpreact         | exact: False | approx: True  | max diff: 0.0\n",
      "bngain          | exact: False | approx: True  | max diff: 0.0\n",
      "bnbias          | exact: False | approx: True  | max diff: 0.0\n",
      "bnraw           | exact: False | approx: True  | max diff: 0.0\n",
      "bnvar_inv       | exact: False | approx: True  | max diff: 0.0\n",
      "bnvar           | exact: False | approx: True  | max diff: 0.0\n",
      "bndiff2         | exact: False | approx: True  | max diff: 0.0\n",
      "bndiff          | exact: False | approx: True  | max diff: 0.0\n",
      "bnmeani         | exact: False | approx: True  | max diff: 0.0\n",
      "hprebn          | exact: False | approx: True  | max diff: 0.0\n",
      "embcat          | exact: False | approx: True  | max diff: 0.0\n",
      "W1              | exact: False | approx: True  | max diff: 0.0\n",
      "b1              | exact: False | approx: True  | max diff: 0.0\n",
      "emb             | exact: False | approx: True  | max diff: 0.0\n",
      "C               | exact: False | approx: True  | max diff: 0.0\n"
     ]
    }
   ],
   "source": [
    "dlogprobs = torch.zeros_like(logprobs)\n",
    "dlogprobs[range(n), Yb] = -1.0 / n\n",
    "\n",
    "dprobs = (1.0 / probs) * dlogprobs\n",
    "\n",
    "dcounts_sum_inv = (counts * dprobs).sum(1, keepdim=True)\n",
    "dcounts = counts_sum_inv * dprobs\n",
    "dcounts_sum = (-counts_sum**-2) * dcounts_sum_inv\n",
    "dcounts += torch.ones_like(counts) * dcounts_sum\n",
    "dnorm_logits = counts * dcounts\n",
    "dlogits = dnorm_logits.clone()\n",
    "dlogit_maxes = (-dnorm_logits).sum(1, keepdim=True)\n",
    "dlogits += F.one_hot(logits.max(1).indices, num_classes=logits.shape[1]) * dlogit_maxes\n",
    "dh = dlogits @ W2.T\n",
    "dW2 = h.T @ dlogits\n",
    "db2 = dlogits.sum(0)\n",
    "dhpreact = (1.0 - h**2) * dh\n",
    "dbngain = (bnraw * dhpreact).sum(0, keepdim=True)\n",
    "dbnraw = bngain * dhpreact\n",
    "dbnbias = dhpreact.sum(0, keepdim=True)\n",
    "dbndiff = bnvar_inv * dbnraw\n",
    "dbnvar_inv = (bndiff * dbnraw).sum(0, keepdim=True)\n",
    "dbnvar = (-0.5 * (bnvar + 1e-5)**-1.5) * dbnvar_inv\n",
    "dbndiff2 = (1.0 / (n - 1)) * torch.ones_like(bndiff2) * dbnvar\n",
    "dbndiff += (2 * bndiff) * dbndiff2 \n",
    "dhprebn = dbndiff.clone()\n",
    "dbnmeani = (-dbndiff).sum(0)\n",
    "dhprebn += 1.0/n * (torch.ones_like(hprebn) * dbnmeani)\n",
    "dembcat = dhprebn @ W1.T\n",
    "dW1 = embcat.T @ dhprebn\n",
    "db1 = dhprebn.sum(0)\n",
    "demb = dembcat.view(emb.shape)\n",
    "dC = torch.zeros_like(C)\n",
    "for k in range(Xb.shape[0]):\n",
    "\tfor j in range(Xb.shape[1]):\n",
    "\t\tdC[Xb[k, j]] += demb[k, j]\n",
    "\n",
    "cmp('logprobs', dlogprobs, logprobs)\n",
    "cmp('probs', dprobs, probs)\n",
    "cmp('counts_sum_inv', dcounts_sum_inv, counts_sum_inv)\n",
    "cmp('counts_sum', dcounts_sum, counts_sum)\n",
    "cmp('counts', dcounts, counts)\n",
    "cmp('norm_logits', dnorm_logits, norm_logits)\n",
    "cmp('logit_maxes', dlogit_maxes, logit_maxes)\n",
    "cmp('logits', dlogits, logits)\n",
    "cmp('h', dh, h)\n",
    "cmp('W2', dW2, W2)\n",
    "cmp('b2', db2, b2)\n",
    "cmp('hpreact', dhpreact, hpreact)\n",
    "cmp('bngain', dbngain, bngain)\n",
    "cmp('bnbias', dbnbias, bnbias)\n",
    "cmp('bnraw', dbnraw, bnraw)\n",
    "cmp('bnvar_inv', dbnvar_inv, bnvar_inv)\n",
    "cmp('bnvar', dbnvar, bnvar)\n",
    "cmp('bndiff2', dbndiff2, bndiff2)\n",
    "cmp('bndiff', dbndiff, bndiff)\n",
    "cmp('bnmeani', dbnmeani, bnmeani)\n",
    "cmp('hprebn', dhprebn, hprebn)\n",
    "cmp('embcat', dembcat, embcat)\n",
    "cmp('W1', dW1, W1)\n",
    "cmp('b1', db1, b1)\n",
    "cmp('emb', demb, emb)\n",
    "cmp('C', dC, C)"
   ]
  },
  {
   "cell_type": "code",
   "execution_count": 48,
   "metadata": {},
   "outputs": [
    {
     "name": "stdout",
     "output_type": "stream",
     "text": [
      "3.32732892036438 diff: 4.76837158203125e-07\n"
     ]
    }
   ],
   "source": [
    "# easier backward\n",
    "loss_fast = F.cross_entropy(logits, Yb)\n",
    "print(loss_fast.item(), 'diff:', (loss_fast - loss).item())"
   ]
  },
  {
   "cell_type": "code",
   "execution_count": 51,
   "metadata": {},
   "outputs": [
    {
     "name": "stdout",
     "output_type": "stream",
     "text": [
      "logits          | exact: False | approx: True  | max diff: 0.0\n"
     ]
    }
   ],
   "source": [
    "# backpass\n",
    "\n",
    "dlogits = F.softmax(logits, 1)\n",
    "dlogits[range(n), Yb] -= 1.0\n",
    "dlogits /= n\n",
    "\n",
    "cmp('logits', dlogits, logits)"
   ]
  },
  {
   "cell_type": "code",
   "execution_count": 53,
   "metadata": {},
   "outputs": [],
   "source": [
    "# easier forward\n",
    "# hpreact_fast = bngain * (hprebn - hprebn.mean(0, keepdim=True)) / (hprebn.var(0, unbiased=False, keepdim=True) + 1e-5).sqrt() + bnbias\n",
    "# print('max diff:', (hpreact_fast - hpreact).abs().max().item())"
   ]
  },
  {
   "cell_type": "code",
   "execution_count": 54,
   "metadata": {},
   "outputs": [
    {
     "name": "stdout",
     "output_type": "stream",
     "text": [
      "hprebn          | exact: False | approx: True  | max diff: 0.0\n"
     ]
    }
   ],
   "source": [
    "# backpass\n",
    "\n",
    "dhprebn = bngain * bnvar_inv / n * (n * dhpreact - dhpreact.sum(0) - n/(n-1) * bnraw * (dhpreact * bnraw).sum(0))\n",
    "\n",
    "cmp('hprebn', dhprebn, hprebn)"
   ]
  },
  {
   "cell_type": "code",
   "execution_count": 62,
   "metadata": {},
   "outputs": [
    {
     "name": "stdout",
     "output_type": "stream",
     "text": [
      "12297\n",
      "      0/ 200000: 3.7786\n",
      "  10000/ 200000: 2.2112\n",
      "  20000/ 200000: 2.3715\n",
      "  30000/ 200000: 2.4359\n",
      "  40000/ 200000: 2.0316\n",
      "  50000/ 200000: 2.3260\n",
      "  60000/ 200000: 2.4419\n",
      "  70000/ 200000: 2.0399\n",
      "  80000/ 200000: 2.4143\n",
      "  90000/ 200000: 2.0988\n",
      " 100000/ 200000: 2.0461\n",
      " 110000/ 200000: 2.2988\n",
      " 120000/ 200000: 2.0005\n",
      " 130000/ 200000: 2.3717\n",
      " 140000/ 200000: 2.2165\n",
      " 150000/ 200000: 2.1558\n",
      " 160000/ 200000: 2.0320\n",
      " 170000/ 200000: 1.8355\n",
      " 180000/ 200000: 2.0073\n",
      " 190000/ 200000: 1.9156\n"
     ]
    }
   ],
   "source": [
    "# all together!\n",
    "\n",
    "n_embd = 10 # embedding size\n",
    "n_hidden = 200 # hidden layer size\n",
    "\n",
    "g = torch.Generator().manual_seed(2147483647)\n",
    "C = torch.randn((vocab_size, n_embd),\t\t\t\tgenerator=g)\n",
    "# Layer 1\n",
    "W1 = torch.randn((n_embd * block_size, n_hidden),\tgenerator=g) * (5/3) / ((n_embd * block_size)**0.5)\n",
    "b1 = torch.randn((n_hidden,),\t\t\t\t\t\tgenerator=g) * 0.1 # for fun (useless)\n",
    "# Layer 2\n",
    "W2 = torch.randn((n_hidden, vocab_size),\t\t\tgenerator=g) * 0.1\n",
    "b2 = torch.randn((vocab_size,),\t\t\t\t\t\tgenerator=g) * 0.1\n",
    "\n",
    "# BatchNorm parameters\n",
    "bngain = torch.randn((1, n_hidden)) * 0.1 + 1.0\n",
    "bnbias = torch.randn((1, n_hidden)) * 0.1\n",
    "\n",
    "parameters = [C, W1, b1, W2, b2, bngain, bnbias]\n",
    "print(sum(p.nelement() for p in parameters)) # number of parameters in total\n",
    "for p in parameters:\n",
    "\tp.requires_grad = True\n",
    "\n",
    "max_steps = 200_000\n",
    "batch_size = 32\n",
    "n = batch_size # a short var for convenience\n",
    "lossi = []\n",
    "\n",
    "\n",
    "with torch.no_grad():\n",
    "\t# optimization\n",
    "\tfor i in range(max_steps):\n",
    "\t\t# minibatch\n",
    "\t\tix = torch.randint(0, X_train.shape[0], (batch_size,), generator=g)\n",
    "\t\tXb, Yb = X_train[ix], Y_train[ix] # batch X, Y\n",
    "\n",
    "\t\t# forward pass\n",
    "\t\temb = C[Xb] # embed the chars into vectors\n",
    "\t\tembcat = emb.view(emb.shape[0], -1) # concat the vectors\n",
    "\n",
    "\t\t# Linear layer 1\n",
    "\t\thprebn = embcat @ W1 + b1 # hidden layer preactivation\n",
    "\n",
    "\t\t# BatchNorm layer\n",
    "\t\t# --------------------------------\n",
    "\t\tbnmean = hprebn.mean(0, keepdim=True)\n",
    "\t\tbnvar = hprebn.var(0, unbiased=True, keepdim=True)\n",
    "\t\tbnvar_inv = (bnvar + 1e-5)**-0.5\n",
    "\t\tbnraw = (hprebn - bnmean) * bnvar_inv\n",
    "\t\thpreact = bngain * bnraw + bnbias\n",
    "\t\t# --------------------------------\n",
    "\n",
    "\t\t# Non-linearity\n",
    "\t\th = torch.tanh(hpreact) # hidden layer activation\n",
    "\t\tlogits = h @ W2 + b2 # output layer\n",
    "\t\tloss = F.cross_entropy(logits, Yb) # loss function\n",
    "\n",
    "\t\t# backward pass\n",
    "\t\tfor p in parameters:\n",
    "\t\t\tp.grad = None\n",
    "\t\t# loss.backward()\n",
    "\n",
    "\t\t# manual backprop!\n",
    "\t\t# --------------------------------\n",
    "\t\tdlogits = F.softmax(logits, 1)\n",
    "\t\tdlogits[range(n), Yb] -= 1.0\n",
    "\t\tdlogits /= n\n",
    "\t\t# 2nd layer backprop\n",
    "\t\tdh = dlogits @ W2.T\n",
    "\t\tdW2 = h.T @ dlogits\n",
    "\t\tdb2 = dlogits.sum(0)\n",
    "\t\t# tanh\n",
    "\t\tdhpreact = (1.0 - h**2) * dh\n",
    "\t\t# batchnorm backprop\n",
    "\t\tdbngain = (bnraw * dhpreact).sum(0, keepdim=True)\n",
    "\t\tdbnbias = dhpreact.sum(0, keepdim=True)\n",
    "\t\tdhprebn = bngain * bnvar_inv / n * (n * dhpreact - dhpreact.sum(0) - n/(n-1) * bnraw * (dhpreact * bnraw).sum(0))\n",
    "\t\t# 1st layer backprop\n",
    "\t\tdembcat = dhprebn @ W1.T\n",
    "\t\tdW1 = embcat.T @ dhprebn\n",
    "\t\tdb1 = dhprebn.sum(0)\n",
    "\t\t# embedding backprop\n",
    "\t\tdemb = dembcat.view(emb.shape)\n",
    "\t\tdC = torch.zeros_like(C)\n",
    "\t\tfor k in range(Xb.shape[0]):\n",
    "\t\t\tfor j in range(Xb.shape[1]):\n",
    "\t\t\t\tdC[Xb[k, j]] += demb[k, j]\n",
    "\t\tgrads = [dC, dW1, db1, dW2, db2, dbngain, dbnbias]\n",
    "\t\t# --------------------------------\n",
    "\n",
    "\t\t# update\n",
    "\t\tlr = 0.1 if i < 100_000 else 0.01\n",
    "\t\tfor p, grad in zip(parameters, grads):\n",
    "\t\t\t# p.data += -lr * p.grad\n",
    "\t\t\tp.data += -lr * grad # NEW WAY LET'S GO\n",
    "\t\t\n",
    "\t\tif i % 10000 == 0:\n",
    "\t\t\tprint(f'{i:7d}/{max_steps:7d}: {loss.item():.4f}')\n",
    "\t\tlossi.append(loss.log10().item())\n",
    "\n",
    "\t\t# if i >= 100:\n",
    "\t\t# \tbreak"
   ]
  },
  {
   "cell_type": "code",
   "execution_count": 60,
   "metadata": {},
   "outputs": [
    {
     "name": "stdout",
     "output_type": "stream",
     "text": [
      "(27, 10)        | exact: False | approx: True  | max diff: 0.0\n",
      "(30, 200)       | exact: False | approx: True  | max diff: 0.0\n",
      "(200,)          | exact: False | approx: True  | max diff: 0.0\n",
      "(200, 27)       | exact: False | approx: True  | max diff: 0.0\n",
      "(27,)           | exact: False | approx: True  | max diff: 0.0\n",
      "(1, 200)        | exact: False | approx: True  | max diff: 0.0\n",
      "(1, 200)        | exact: False | approx: True  | max diff: 0.0\n"
     ]
    }
   ],
   "source": [
    "# check gradients\n",
    "# for p, g in zip(parameters, grads):\n",
    "# \tcmp(str(tuple(p.shape)), g, p)"
   ]
  },
  {
   "cell_type": "code",
   "execution_count": 63,
   "metadata": {},
   "outputs": [],
   "source": [
    "with torch.no_grad():\n",
    "\temb = C[X_train]\n",
    "\tembcat = emb.view(emb.shape[0], -1)\n",
    "\thprebn = embcat @ W1 + b1\n",
    "\tbnmean = hprebn.mean(0, keepdim=True)\n",
    "\tbnvar = hprebn.var(0, unbiased=True, keepdim=True)"
   ]
  },
  {
   "cell_type": "code",
   "execution_count": 64,
   "metadata": {},
   "outputs": [
    {
     "name": "stdout",
     "output_type": "stream",
     "text": [
      "train 2.0718963146209717\n",
      "val 2.111926794052124\n"
     ]
    }
   ],
   "source": [
    "@torch.no_grad()\n",
    "def split_loss(split):\n",
    "\tx, y = {\n",
    "\t\t'train': (X_train, Y_train),\n",
    "\t\t'val': (X_val, Y_val),\n",
    "\t\t'test': (X_test, Y_test)\n",
    "\t}[split]\n",
    "\temb = C[x]\n",
    "\tembcat = emb.view(emb.shape[0], -1)\n",
    "\thpreact = embcat @ W1 + b1\n",
    "\thpreact = bngain * (hpreact - bnmean) * (bnvar + 1e-5)**-0.5 + bnbias\n",
    "\th = torch.tanh(hpreact)\n",
    "\tlogits = h @ W2 + b2\n",
    "\tloss = F.cross_entropy(logits, y)\n",
    "\tprint(split, loss.item())\n",
    "\n",
    "split_loss('train')\n",
    "split_loss('val')"
   ]
  },
  {
   "cell_type": "code",
   "execution_count": 66,
   "metadata": {},
   "outputs": [
    {
     "name": "stdout",
     "output_type": "stream",
     "text": [
      "mora\n",
      "mayah\n",
      "see\n",
      "mad\n",
      "ryla\n",
      "rethruthadraeg\n",
      "adelynnelin\n",
      "shi\n",
      "jen\n",
      "eden\n",
      "sana\n",
      "arleigh\n",
      "malaia\n",
      "nosalbergihimie\n",
      "tricke\n",
      "jennex\n",
      "teron\n",
      "ubrence\n",
      "ryyah\n",
      "faeh\n"
     ]
    }
   ],
   "source": [
    "g = torch.Generator().manual_seed(2147483647 + 10)\n",
    "\n",
    "for _ in range(20):\n",
    "\tout = []\n",
    "\tcontext = [0] * block_size\n",
    "\twhile True:\n",
    "\t\temb = C[torch.tensor([context])]\n",
    "\t\tembcat = emb.view(emb.shape[0], -1)\n",
    "\t\thpreact = embcat @ W1 + b1\n",
    "\t\thpreact = bngain * (hpreact - bnmean) * (bnvar + 1e-5)**-0.5 + bnbias\n",
    "\t\th = torch.tanh(hpreact)\n",
    "\t\tlogits = h @ W2 + b2\n",
    "\t\t# Sample\n",
    "\t\tprobs = F.softmax(logits, dim=1)\n",
    "\t\tix = torch.multinomial(probs, num_samples=1, generator=g).item()\n",
    "\t\tcontext = context[1:] + [ix]\n",
    "\t\tout.append(ix)\n",
    "\t\tif ix == 0:\n",
    "\t\t\tbreak\n",
    "\t\n",
    "\tprint(''.join(i_to_s[i] for i in out[:-1]))"
   ]
  },
  {
   "cell_type": "code",
   "execution_count": null,
   "metadata": {},
   "outputs": [],
   "source": []
  }
 ],
 "metadata": {
  "kernelspec": {
   "display_name": "Python 3",
   "language": "python",
   "name": "python3"
  },
  "language_info": {
   "codemirror_mode": {
    "name": "ipython",
    "version": 3
   },
   "file_extension": ".py",
   "mimetype": "text/x-python",
   "name": "python",
   "nbconvert_exporter": "python",
   "pygments_lexer": "ipython3",
   "version": "3.10.12"
  }
 },
 "nbformat": 4,
 "nbformat_minor": 2
}
