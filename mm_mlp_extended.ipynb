{
 "cells": [
  {
   "cell_type": "code",
   "execution_count": 16,
   "metadata": {},
   "outputs": [],
   "source": [
    "import torch\n",
    "import torch.nn.functional as F\n",
    "import matplotlib.pyplot as plt\n",
    "%matplotlib inline"
   ]
  },
  {
   "cell_type": "code",
   "execution_count": 17,
   "metadata": {},
   "outputs": [
    {
     "data": {
      "text/plain": [
       "(32033, ['emma', 'olivia', 'ava', 'isabella', 'sophia'])"
      ]
     },
     "execution_count": 17,
     "metadata": {},
     "output_type": "execute_result"
    }
   ],
   "source": [
    "# read the words\n",
    "words = open('names.txt', 'r').read().splitlines()\n",
    "len(words), words[:5]"
   ]
  },
  {
   "cell_type": "code",
   "execution_count": 18,
   "metadata": {},
   "outputs": [
    {
     "name": "stdout",
     "output_type": "stream",
     "text": [
      "{0: '.', 1: 'a', 2: 'b', 3: 'c', 4: 'd', 5: 'e', 6: 'f', 7: 'g', 8: 'h', 9: 'i', 10: 'j', 11: 'k', 12: 'l', 13: 'm', 14: 'n', 15: 'o', 16: 'p', 17: 'q', 18: 'r', 19: 's', 20: 't', 21: 'u', 22: 'v', 23: 'w', 24: 'x', 25: 'y', 26: 'z'}\n",
      "27\n"
     ]
    }
   ],
   "source": [
    "# build the vocabulary\n",
    "chars = sorted(list(set(''.join(words))))\n",
    "s_to_i = {'.' : 0} | {s: i + 1 for i, s in enumerate(chars)}\n",
    "i_to_s = {i: s for s, i in s_to_i.items()}\n",
    "vocab_size = len(i_to_s)\n",
    "print(i_to_s)\n",
    "print(vocab_size)"
   ]
  },
  {
   "cell_type": "code",
   "execution_count": 19,
   "metadata": {},
   "outputs": [
    {
     "name": "stdout",
     "output_type": "stream",
     "text": [
      "torch.Size([182625, 3]) torch.Size([182625])\n",
      "torch.Size([22655, 3]) torch.Size([22655])\n",
      "torch.Size([22866, 3]) torch.Size([22866])\n"
     ]
    }
   ],
   "source": [
    "# build the dataset\n",
    "\n",
    "block_size = 3 # context length (how many chars to predict next)\n",
    "\n",
    "def build_dataset(words):\n",
    "\tX, Y = [], []\n",
    "\n",
    "\tfor w in words:\n",
    "\t\tcontext = [0] * block_size\n",
    "\t\tfor ch in w + '.':\n",
    "\t\t\tidx = s_to_i[ch]\n",
    "\t\t\tX.append(context)\n",
    "\t\t\tY.append(idx)\n",
    "\t\t\tcontext = context[1:] + [idx]\n",
    "\t\n",
    "\tX = torch.tensor(X)\n",
    "\tY = torch.tensor(Y)\n",
    "\tprint(X.shape, Y.shape)\n",
    "\treturn X, Y\n",
    "\n",
    "import random\n",
    "random.seed(42)\n",
    "random.shuffle(words)\n",
    "n1 = int(len(words) * 0.8)\n",
    "n2 = int(len(words) * 0.9)\n",
    "\n",
    "X_train,\tY_train\t= build_dataset(words[:n1])\t\t# 80%\n",
    "X_val,\t\tY_val\t= build_dataset(words[n1:n2])\t# 10%\n",
    "X_test,\t\tY_test\t= build_dataset(words[n2:])\t\t# 10%"
   ]
  },
  {
   "cell_type": "code",
   "execution_count": 20,
   "metadata": {},
   "outputs": [
    {
     "name": "stdout",
     "output_type": "stream",
     "text": [
      "11897\n"
     ]
    }
   ],
   "source": [
    "n_embd = 10 # embedding size\n",
    "n_hidden = 200 # hidden layer size\n",
    "\n",
    "g = torch.Generator().manual_seed(2147483647)\n",
    "C = torch.randn((vocab_size, n_embd),\t\t\t\tgenerator=g)\n",
    "W1 = torch.randn((n_embd * block_size, n_hidden),\tgenerator=g) * (5/3) / ((n_embd * block_size)**0.5)\n",
    "b1 = torch.randn((n_hidden,),\t\t\t\t\t\tgenerator=g) * 0.01\n",
    "W2 = torch.randn((n_hidden, vocab_size),\t\t\tgenerator=g) * 0.01\n",
    "b2 = torch.randn((vocab_size,),\t\t\t\t\t\tgenerator=g) * 0\n",
    "\n",
    "parameters = [C, W1, b1, W2, b2]\n",
    "print(sum(p.nelement() for p in parameters)) # number of parameters in total\n",
    "for p in parameters:\n",
    "\tp.requires_grad = True"
   ]
  },
  {
   "cell_type": "code",
   "execution_count": 21,
   "metadata": {},
   "outputs": [],
   "source": [
    "max_steps = 200000\n",
    "lossi = []"
   ]
  },
  {
   "cell_type": "code",
   "execution_count": 22,
   "metadata": {},
   "outputs": [
    {
     "name": "stdout",
     "output_type": "stream",
     "text": [
      "      0/  200000: 3.3179\n",
      "  10000/  200000: 2.1910\n",
      "  20000/  200000: 2.3270\n",
      "  30000/  200000: 2.5396\n",
      "  40000/  200000: 1.9468\n",
      "  50000/  200000: 2.3331\n",
      "  60000/  200000: 2.3852\n",
      "  70000/  200000: 2.1173\n",
      "  80000/  200000: 2.3159\n",
      "  90000/  200000: 2.2010\n",
      " 100000/  200000: 1.8591\n",
      " 110000/  200000: 2.0881\n",
      " 120000/  200000: 1.9389\n",
      " 130000/  200000: 2.3913\n",
      " 140000/  200000: 2.0949\n",
      " 150000/  200000: 2.1458\n",
      " 160000/  200000: 1.7925\n",
      " 170000/  200000: 1.7368\n",
      " 180000/  200000: 1.9573\n",
      " 190000/  200000: 1.8551\n"
     ]
    }
   ],
   "source": [
    "batch_size = 32\n",
    "\n",
    "for i in range(max_steps):\n",
    "\t\n",
    "\t# minibatch\n",
    "\tminibatch = torch.randint(0, X_train.shape[0], (batch_size,), generator=g)\n",
    "\tXb, Yb = X_train[minibatch], Y_train[minibatch]\n",
    "\n",
    "\t# forward pass\n",
    "\temb = C[Xb] # embed chars to vectors\n",
    "\temb_cat = emb.view(emb.shape[0], -1) # concatenate embeddings\n",
    "\th_preact = emb_cat @ W1 + b1 # hidden layer preactivation\n",
    "\th = torch.tanh(h_preact) # hidden layer activation\n",
    "\tlogits = h @ W2 + b2 # output layer\n",
    "\tloss = F.cross_entropy(logits, Yb) # loss function\n",
    "\n",
    "\t# backward pass\n",
    "\tfor p in parameters:\n",
    "\t\tp.grad = None\n",
    "\tloss.backward()\n",
    "\n",
    "\t# update\n",
    "\tif i < 100000:\n",
    "\t\tlr = 0.1\n",
    "\telif i < 150000:\n",
    "\t\tlr = 0.01\n",
    "\telse:\n",
    "\t\tlr = 0.003\n",
    "\tfor p in parameters:\n",
    "\t\tp.data += -lr * p.grad\n",
    "\n",
    "\t# track stats\n",
    "\tif i % 10000 == 0:\n",
    "\t\tprint(f'{i:7d}/ {max_steps:7d}: {loss.item():.4f}')\n",
    "\tlossi.append(loss.log10().item())"
   ]
  },
  {
   "cell_type": "code",
   "execution_count": 23,
   "metadata": {},
   "outputs": [
    {
     "data": {
      "text/plain": [
       "[<matplotlib.lines.Line2D at 0x7d4050553df0>]"
      ]
     },
     "execution_count": 23,
     "metadata": {},
     "output_type": "execute_result"
    },
    {
     "data": {
      "image/png": "[encoded data removed]",
      "text/plain": [
       "<Figure size 432x288 with 1 Axes>"
      ]
     },
     "metadata": {
      "needs_background": "light"
     },
     "output_type": "display_data"
    }
   ],
   "source": [
    "plt.plot(lossi)"
   ]
  },
  {
   "cell_type": "code",
   "execution_count": 24,
   "metadata": {},
   "outputs": [
    {
     "name": "stdout",
     "output_type": "stream",
     "text": [
      "train | loss: 2.033613\n",
      "val   | loss: 2.099784\n"
     ]
    }
   ],
   "source": [
    "@torch.no_grad() # disable autograd\n",
    "def split_loss(split):\n",
    "\tx, y = {\n",
    "\t\t'train': (X_train, Y_train),\n",
    "\t\t'val': (X_val, Y_val),\n",
    "\t\t'test': (X_test, Y_test)\n",
    "\t}[split]\n",
    "\temb = C[x] # (N, block_size, n_embd)\n",
    "\temb_cat = emb.view(emb.shape[0], -1) # concat into (N, block_size * n_embd)\n",
    "\th_preact = emb_cat @ W1 + b1 # (N, n_hidden)\n",
    "\th = torch.tanh(h_preact) # (N, n_hidden)\n",
    "\tlogits = h @ W2 + b2 # (N, vocab_size)\n",
    "\tloss = F.cross_entropy(logits, y)\n",
    "\tprint(f'{split:5s} | loss: {loss.item():.6f}')\n",
    "\n",
    "split_loss('train')\n",
    "split_loss('val')"
   ]
  },
  {
   "cell_type": "code",
   "execution_count": 25,
   "metadata": {},
   "outputs": [
    {
     "name": "stdout",
     "output_type": "stream",
     "text": [
      "yyxna\n",
      "nys\n",
      "gercia\n",
      "cayan\n",
      "zand\n",
      "kadeeveth\n",
      "taylin\n",
      "paysiah\n",
      "kair\n",
      "hay\n",
      "yviah\n",
      "charley\n",
      "hollysa\n",
      "jat\n",
      "phinie\n",
      "eliselesa\n",
      "moni\n",
      "niael\n",
      "jermyson\n",
      "aza\n"
     ]
    }
   ],
   "source": [
    "for _ in range(20):\n",
    "\tout = []\n",
    "\tcontext = [0] * block_size # init with: '...'\n",
    "\twhile True:\n",
    "\t\t# forward pass the neural net\n",
    "\t\temb = C[torch.tensor(context)] # (1, block_size, n_embd)\n",
    "\t\th = torch.tanh(emb.view(1, -1) @ W1 + b1)\n",
    "\t\tlogits = h @ W2 + b2\n",
    "\t\tprobs = F.softmax(logits, dim=1)\n",
    "\t\t# sample from the distribution\n",
    "\t\tix = torch.multinomial(probs, num_samples=1).item()\n",
    "\t\t# shift the context window\n",
    "\t\tcontext = context[1:] + [ix]\n",
    "\t\tout.append(ix)\n",
    "\t\t# if we generated the end token, break\n",
    "\t\tif ix == 0:\n",
    "\t\t\tbreak\n",
    "\t\n",
    "\tprint(''.join(i_to_s[i] for i in out[:-1])) # decode and print"
   ]
  },
  {
   "cell_type": "code",
   "execution_count": null,
   "metadata": {},
   "outputs": [],
   "source": []
  }
 ],
 "metadata": {
  "kernelspec": {
   "display_name": "Python 3",
   "language": "python",
   "name": "python3"
  },
  "language_info": {
   "codemirror_mode": {
    "name": "ipython",
    "version": 3
   },
   "file_extension": ".py",
   "mimetype": "text/x-python",
   "name": "python",
   "nbconvert_exporter": "python",
   "pygments_lexer": "ipython3",
   "version": "3.10.12"
  }
 },
 "nbformat": 4,
 "nbformat_minor": 2
}
